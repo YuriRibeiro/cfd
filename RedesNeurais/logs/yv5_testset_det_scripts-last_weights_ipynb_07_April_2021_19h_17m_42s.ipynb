{
 "cells": [
  {
   "cell_type": "markdown",
   "id": "forbidden-breach",
   "metadata": {},
   "source": [
    "# Scripts para executar a detecção no conjunto de dados.\n",
    "\n",
    "# Utilziando last.pt ao invés de best.pt\n",
    "\n",
    "Rede: YOLOv5."
   ]
  },
  {
   "cell_type": "markdown",
   "id": "modular-benefit",
   "metadata": {},
   "source": [
    "```bash\n",
    "conda activate yv5r4; mkdir logs; experimento=\"yv5_testset_det_scripts-last_weights\"; outputFileName=$(date \"+\"$experimento\"_ipynb_%d_%B_%Y_%Hh_%Mm_%Ss\"); echo \"Salvando log de execucao em: $outputFileName.txt\"; nohup jupyter nbconvert --to notebook --execute --allow-errors --output \"./logs/$outputFileName\" --ExecutePreprocessor.timeout=-1 --Application.log_level=10 $experimento.ipynb &> \"./logs/$outputFileName.txt\" &\n",
    "```"
   ]
  },
  {
   "cell_type": "code",
   "execution_count": 1,
   "id": "statistical-lending",
   "metadata": {
    "execution": {
     "iopub.execute_input": "2021-04-07T22:17:45.051773Z",
     "iopub.status.busy": "2021-04-07T22:17:45.050935Z",
     "iopub.status.idle": "2021-04-07T22:17:45.630812Z",
     "shell.execute_reply": "2021-04-07T22:17:45.629707Z"
    }
   },
   "outputs": [
    {
     "name": "stdout",
     "output_type": "stream",
     "text": [
      "Wed Apr  7 19:17:45 -03 2021\r\n",
      "/home/yuri/Desktop/cfd/RedesNeurais\r\n",
      "CONDA_EXE=/home/yuri/anaconda3/bin/conda\r\n",
      "PATH=/home/yuri/anaconda3/envs/yv5r4/bin:/home/yuri/bin:/home/yuri/.local/bin:/home/yuri/google-cloud-sdk/bin:/home/yuri/libs_yuri:/usr/local/cuda/bin:/home/yuri/anaconda3/condabin:/usr/local/sbin:/usr/local/bin:/usr/sbin:/usr/bin:/sbin:/bin:/usr/games:/usr/local/games:/snap/bin\r\n",
      "GSETTINGS_SCHEMA_DIR=/home/yuri/anaconda3/envs/yv5r4/share/glib-2.0/schemas\r\n",
      "CONDA_PREFIX=/home/yuri/anaconda3/envs/yv5r4\r\n",
      "CONDA_PYTHON_EXE=/home/yuri/anaconda3/bin/python\r\n",
      "Wed Apr  7 19:17:45 2021       \r\n",
      "+-----------------------------------------------------------------------------+\r\n",
      "| NVIDIA-SMI 418.181.07   Driver Version: 418.181.07   CUDA Version: 10.1     |\r\n",
      "|-------------------------------+----------------------+----------------------+\r\n",
      "| GPU  Name        Persistence-M| Bus-Id        Disp.A | Volatile Uncorr. ECC |\r\n",
      "| Fan  Temp  Perf  Pwr:Usage/Cap|         Memory-Usage | GPU-Util  Compute M. |\r\n",
      "|===============================+======================+======================|\r\n",
      "|   0  GeForce GTX 108...  Off  | 00000000:01:00.0 Off |                  N/A |\r\n",
      "| 12%   55C    P2    61W / 280W |  10764MiB / 11178MiB |      0%      Default |\r\n",
      "+-------------------------------+----------------------+----------------------+\r\n",
      "|   1  GeForce GTX 108...  Off  | 00000000:02:00.0 Off |                  N/A |\r\n",
      "| 40%   68C    P2    65W / 280W |    259MiB / 11178MiB |      0%      Default |\r\n",
      "+-------------------------------+----------------------+----------------------+\r\n",
      "|   2  GeForce GTX 108...  Off  | 00000000:03:00.0 Off |                  N/A |\r\n",
      "| 67%   81C    P2    85W / 280W |  10580MiB / 11178MiB |      0%      Default |\r\n",
      "+-------------------------------+----------------------+----------------------+\r\n",
      "|   3  GeForce GTX 108...  Off  | 00000000:04:00.0 Off |                  N/A |\r\n",
      "| 55%   74C    P2    84W / 280W |    259MiB / 11177MiB |      0%      Default |\r\n",
      "+-------------------------------+----------------------+----------------------+\r\n",
      "                                                                               \r\n",
      "+-----------------------------------------------------------------------------+\r\n",
      "| Processes:                                                       GPU Memory |\r\n",
      "|  GPU       PID   Type   Process name                             Usage      |\r\n",
      "|=============================================================================|\r\n",
      "|    0     13487      C   ...yres/miniconda3/envs/pytorch/bin/python   779MiB |\r\n",
      "|    0     18914      C   python                                      9975MiB |\r\n",
      "|    1     18914      C   python                                       249MiB |\r\n",
      "|    2     18914      C   python                                       249MiB |\r\n",
      "|    2     24575      C   ...rcampos/miniconda3/envs/net1/bin/python 10321MiB |\r\n",
      "|    3     18914      C   python                                       249MiB |\r\n",
      "+-----------------------------------------------------------------------------+\r\n"
     ]
    }
   ],
   "source": [
    "!date\n",
    "!pwd\n",
    "!printenv | grep conda\n",
    "!nvidia-smi"
   ]
  },
  {
   "cell_type": "code",
   "execution_count": 2,
   "id": "coated-responsibility",
   "metadata": {
    "execution": {
     "iopub.execute_input": "2021-04-07T22:17:45.640780Z",
     "iopub.status.busy": "2021-04-07T22:17:45.639838Z",
     "iopub.status.idle": "2021-04-07T22:17:56.565702Z",
     "shell.execute_reply": "2021-04-07T22:17:56.566285Z"
    }
   },
   "outputs": [
    {
     "name": "stdout",
     "output_type": "stream",
     "text": [
      "Wed Apr  7 19:17:45 -03 2021\n",
      "/home/yuri/Desktop/cfd/RedesNeurais\n",
      "Wed Apr  7 19:17:56 -03 2021\n"
     ]
    },
    {
     "name": "stderr",
     "output_type": "stream",
     "text": [
      "Traceback (most recent call last):\n",
      "  File \"/home/yuri/Desktop/cfd/RedesNeurais/exec_detection_test.py\", line 473, in <module>\n",
      "    Main()\n",
      "  File \"/home/yuri/Desktop/cfd/RedesNeurais/exec_detection_test.py\", line 462, in __init__\n",
      "    YOLOv5_UAVDT_DET()\n",
      "  File \"/home/yuri/Desktop/cfd/RedesNeurais/exec_detection_test.py\", line 111, in __init__\n",
      "    self.run_inference()\n",
      "  File \"/home/yuri/Desktop/cfd/RedesNeurais/exec_detection_test.py\", line 128, in run_inference\n",
      "    if self.use_lastpt_weights: weights_file_path = weights_file_path.parent / 'last.pt'\n",
      "AttributeError: 'str' object has no attribute 'parent'\n",
      "CommandException: No URLs matched: ./YOLOv5_UAVDT_0/YOLOv5_UAVDT_det_lastpt/\n",
      "CommandException: 1 file/object could not be transferred.\n"
     ]
    }
   ],
   "source": [
    "%%script bash\n",
    "date\n",
    "exp=\"YOLOv5_UAVDT_0\"\n",
    "pwd\n",
    "python exec_detection_test.py $exp --device 1 --last-pt-weights\n",
    "gsutil -m cp -r ./$exp/YOLOv5_UAVDT_det_lastpt/ gs://cfdy/Experimentos/$exp/\n",
    "date"
   ]
  },
  {
   "cell_type": "code",
   "execution_count": 3,
   "id": "still-platinum",
   "metadata": {
    "execution": {
     "iopub.execute_input": "2021-04-07T22:17:56.571026Z",
     "iopub.status.busy": "2021-04-07T22:17:56.570198Z",
     "iopub.status.idle": "2021-04-07T22:18:02.826922Z",
     "shell.execute_reply": "2021-04-07T22:18:02.826126Z"
    }
   },
   "outputs": [
    {
     "name": "stdout",
     "output_type": "stream",
     "text": [
      "Wed Apr  7 19:17:56 -03 2021\n",
      "/home/yuri/Desktop/cfd/RedesNeurais\n",
      "Wed Apr  7 19:18:02 -03 2021\n"
     ]
    },
    {
     "name": "stderr",
     "output_type": "stream",
     "text": [
      "Traceback (most recent call last):\n",
      "  File \"/home/yuri/Desktop/cfd/RedesNeurais/exec_detection_test.py\", line 473, in <module>\n",
      "    Main()\n",
      "  File \"/home/yuri/Desktop/cfd/RedesNeurais/exec_detection_test.py\", line 462, in __init__\n",
      "    YOLOv5_UAVDT_DET()\n",
      "  File \"/home/yuri/Desktop/cfd/RedesNeurais/exec_detection_test.py\", line 111, in __init__\n",
      "    self.run_inference()\n",
      "  File \"/home/yuri/Desktop/cfd/RedesNeurais/exec_detection_test.py\", line 128, in run_inference\n",
      "    if self.use_lastpt_weights: weights_file_path = weights_file_path.parent / 'last.pt'\n",
      "AttributeError: 'str' object has no attribute 'parent'\n",
      "CommandException: No URLs matched: ./YOLOv5_UAVDT_1/YOLOv5_UAVDT_det_lastpt/\n",
      "CommandException: 1 file/object could not be transferred.\n"
     ]
    }
   ],
   "source": [
    "%%script bash\n",
    "date\n",
    "exp=\"YOLOv5_UAVDT_1\"\n",
    "pwd\n",
    "python exec_detection_test.py $exp --device 1 --last-pt-weights\n",
    "gsutil -m cp -r ./$exp/YOLOv5_UAVDT_det_lastpt/ gs://cfdy/Experimentos/$exp/\n",
    "date"
   ]
  },
  {
   "cell_type": "code",
   "execution_count": 4,
   "id": "illegal-television",
   "metadata": {
    "execution": {
     "iopub.execute_input": "2021-04-07T22:18:02.835500Z",
     "iopub.status.busy": "2021-04-07T22:18:02.834672Z",
     "iopub.status.idle": "2021-04-07T22:18:08.223514Z",
     "shell.execute_reply": "2021-04-07T22:18:08.222779Z"
    }
   },
   "outputs": [
    {
     "name": "stdout",
     "output_type": "stream",
     "text": [
      "Wed Apr  7 19:18:02 -03 2021\n",
      "/home/yuri/Desktop/cfd/RedesNeurais\n",
      "Wed Apr  7 19:18:08 -03 2021\n"
     ]
    },
    {
     "name": "stderr",
     "output_type": "stream",
     "text": [
      "Traceback (most recent call last):\n",
      "  File \"/home/yuri/Desktop/cfd/RedesNeurais/exec_detection_test.py\", line 473, in <module>\n",
      "    Main()\n",
      "  File \"/home/yuri/Desktop/cfd/RedesNeurais/exec_detection_test.py\", line 462, in __init__\n",
      "    YOLOv5_UAVDT_DET()\n",
      "  File \"/home/yuri/Desktop/cfd/RedesNeurais/exec_detection_test.py\", line 111, in __init__\n",
      "    self.run_inference()\n",
      "  File \"/home/yuri/Desktop/cfd/RedesNeurais/exec_detection_test.py\", line 128, in run_inference\n",
      "    if self.use_lastpt_weights: weights_file_path = weights_file_path.parent / 'last.pt'\n",
      "AttributeError: 'str' object has no attribute 'parent'\n",
      "CommandException: No URLs matched: ./YOLOv5_UAVDT_2/YOLOv5_UAVDT_det_lastpt/\n",
      "CommandException: 1 file/object could not be transferred.\n"
     ]
    }
   ],
   "source": [
    "%%script bash\n",
    "date\n",
    "exp=\"YOLOv5_UAVDT_2\"\n",
    "pwd\n",
    "python exec_detection_test.py $exp --device 1 --last-pt-weights\n",
    "gsutil -m cp -r ./$exp/YOLOv5_UAVDT_det_lastpt/ gs://cfdy/Experimentos/$exp/\n",
    "date"
   ]
  },
  {
   "cell_type": "code",
   "execution_count": 5,
   "id": "included-official",
   "metadata": {
    "execution": {
     "iopub.execute_input": "2021-04-07T22:18:08.238542Z",
     "iopub.status.busy": "2021-04-07T22:18:08.237780Z",
     "iopub.status.idle": "2021-04-07T22:18:14.116284Z",
     "shell.execute_reply": "2021-04-07T22:18:14.116632Z"
    }
   },
   "outputs": [
    {
     "name": "stdout",
     "output_type": "stream",
     "text": [
      "Wed Apr  7 19:18:08 -03 2021\n",
      "/home/yuri/Desktop/cfd/RedesNeurais\n",
      "Wed Apr  7 19:18:14 -03 2021\n"
     ]
    },
    {
     "name": "stderr",
     "output_type": "stream",
     "text": [
      "Traceback (most recent call last):\n",
      "  File \"/home/yuri/Desktop/cfd/RedesNeurais/exec_detection_test.py\", line 473, in <module>\n",
      "    Main()\n",
      "  File \"/home/yuri/Desktop/cfd/RedesNeurais/exec_detection_test.py\", line 462, in __init__\n",
      "    YOLOv5_UAVDT_DET()\n",
      "  File \"/home/yuri/Desktop/cfd/RedesNeurais/exec_detection_test.py\", line 111, in __init__\n",
      "    self.run_inference()\n",
      "  File \"/home/yuri/Desktop/cfd/RedesNeurais/exec_detection_test.py\", line 128, in run_inference\n",
      "    if self.use_lastpt_weights: weights_file_path = weights_file_path.parent / 'last.pt'\n",
      "AttributeError: 'str' object has no attribute 'parent'\n",
      "CommandException: No URLs matched: ./YOLOv5_UAVDT_3/YOLOv5_UAVDT_det_lastpt/\n",
      "CommandException: 1 file/object could not be transferred.\n"
     ]
    }
   ],
   "source": [
    "%%script bash\n",
    "date\n",
    "exp=\"YOLOv5_UAVDT_3\"\n",
    "pwd\n",
    "python exec_detection_test.py $exp --device 1 --last-pt-weights\n",
    "gsutil -m cp -r ./$exp/YOLOv5_UAVDT_det_lastpt/ gs://cfdy/Experimentos/$exp/\n",
    "date"
   ]
  },
  {
   "cell_type": "code",
   "execution_count": 6,
   "id": "aging-double",
   "metadata": {
    "execution": {
     "iopub.execute_input": "2021-04-07T22:18:14.123285Z",
     "iopub.status.busy": "2021-04-07T22:18:14.119654Z",
     "iopub.status.idle": "2021-04-07T22:18:20.726148Z",
     "shell.execute_reply": "2021-04-07T22:18:20.726878Z"
    }
   },
   "outputs": [
    {
     "name": "stdout",
     "output_type": "stream",
     "text": [
      "Wed Apr  7 19:18:14 -03 2021\n",
      "/home/yuri/Desktop/cfd/RedesNeurais\n",
      "Wed Apr  7 19:18:20 -03 2021\n"
     ]
    },
    {
     "name": "stderr",
     "output_type": "stream",
     "text": [
      "Traceback (most recent call last):\n",
      "  File \"/home/yuri/Desktop/cfd/RedesNeurais/exec_detection_test.py\", line 473, in <module>\n",
      "    Main()\n",
      "  File \"/home/yuri/Desktop/cfd/RedesNeurais/exec_detection_test.py\", line 462, in __init__\n",
      "    YOLOv5_UAVDT_DET()\n",
      "  File \"/home/yuri/Desktop/cfd/RedesNeurais/exec_detection_test.py\", line 111, in __init__\n",
      "    self.run_inference()\n",
      "  File \"/home/yuri/Desktop/cfd/RedesNeurais/exec_detection_test.py\", line 128, in run_inference\n",
      "    if self.use_lastpt_weights: weights_file_path = weights_file_path.parent / 'last.pt'\n",
      "AttributeError: 'str' object has no attribute 'parent'\n",
      "CommandException: No URLs matched: ./YOLOv5_UAVDT_4/YOLOv5_UAVDT_det_lastpt/\n",
      "CommandException: 1 file/object could not be transferred.\n"
     ]
    }
   ],
   "source": [
    "%%script bash\n",
    "date\n",
    "exp=\"YOLOv5_UAVDT_4\"\n",
    "pwd\n",
    "python exec_detection_test.py $exp --device 1 --last-pt-weights\n",
    "gsutil -m cp -r ./$exp/YOLOv5_UAVDT_det_lastpt/ gs://cfdy/Experimentos/$exp/\n",
    "date"
   ]
  },
  {
   "cell_type": "code",
   "execution_count": 7,
   "id": "abroad-hunger",
   "metadata": {
    "execution": {
     "iopub.execute_input": "2021-04-07T22:18:20.732685Z",
     "iopub.status.busy": "2021-04-07T22:18:20.731819Z",
     "iopub.status.idle": "2021-04-07T22:18:26.095633Z",
     "shell.execute_reply": "2021-04-07T22:18:26.096370Z"
    }
   },
   "outputs": [
    {
     "name": "stdout",
     "output_type": "stream",
     "text": [
      "Wed Apr  7 19:18:20 -03 2021\n",
      "/home/yuri/Desktop/cfd/RedesNeurais\n",
      "Wed Apr  7 19:18:26 -03 2021\n"
     ]
    },
    {
     "name": "stderr",
     "output_type": "stream",
     "text": [
      "Traceback (most recent call last):\n",
      "  File \"/home/yuri/Desktop/cfd/RedesNeurais/exec_detection_test.py\", line 473, in <module>\n",
      "    Main()\n",
      "  File \"/home/yuri/Desktop/cfd/RedesNeurais/exec_detection_test.py\", line 462, in __init__\n",
      "    YOLOv5_UAVDT_DET()\n",
      "  File \"/home/yuri/Desktop/cfd/RedesNeurais/exec_detection_test.py\", line 111, in __init__\n",
      "    self.run_inference()\n",
      "  File \"/home/yuri/Desktop/cfd/RedesNeurais/exec_detection_test.py\", line 128, in run_inference\n",
      "    if self.use_lastpt_weights: weights_file_path = weights_file_path.parent / 'last.pt'\n",
      "AttributeError: 'str' object has no attribute 'parent'\n",
      "CommandException: No URLs matched: ./YOLOv5_UAVDT_5/YOLOv5_UAVDT_det_lastpt/\n",
      "CommandException: 1 file/object could not be transferred.\n"
     ]
    }
   ],
   "source": [
    "%%script bash\n",
    "date\n",
    "exp=\"YOLOv5_UAVDT_5\"\n",
    "pwd\n",
    "python exec_detection_test.py $exp --device 1 --last-pt-weights\n",
    "gsutil -m cp -r ./$exp/YOLOv5_UAVDT_det_lastpt/ gs://cfdy/Experimentos/$exp/\n",
    "date"
   ]
  },
  {
   "cell_type": "code",
   "execution_count": 8,
   "id": "varied-commonwealth",
   "metadata": {
    "execution": {
     "iopub.execute_input": "2021-04-07T22:18:26.105433Z",
     "iopub.status.busy": "2021-04-07T22:18:26.104551Z",
     "iopub.status.idle": "2021-04-07T22:18:32.114761Z",
     "shell.execute_reply": "2021-04-07T22:18:32.113884Z"
    }
   },
   "outputs": [
    {
     "name": "stdout",
     "output_type": "stream",
     "text": [
      "Wed Apr  7 19:18:26 -03 2021\n",
      "/home/yuri/Desktop/cfd/RedesNeurais\n",
      "Wed Apr  7 19:18:32 -03 2021\n"
     ]
    },
    {
     "name": "stderr",
     "output_type": "stream",
     "text": [
      "Traceback (most recent call last):\n",
      "  File \"/home/yuri/Desktop/cfd/RedesNeurais/exec_detection_test.py\", line 473, in <module>\n",
      "    Main()\n",
      "  File \"/home/yuri/Desktop/cfd/RedesNeurais/exec_detection_test.py\", line 462, in __init__\n",
      "    YOLOv5_UAVDT_DET()\n",
      "  File \"/home/yuri/Desktop/cfd/RedesNeurais/exec_detection_test.py\", line 111, in __init__\n",
      "    self.run_inference()\n",
      "  File \"/home/yuri/Desktop/cfd/RedesNeurais/exec_detection_test.py\", line 128, in run_inference\n",
      "    if self.use_lastpt_weights: weights_file_path = weights_file_path.parent / 'last.pt'\n",
      "AttributeError: 'str' object has no attribute 'parent'\n",
      "CommandException: No URLs matched: ./YOLOv5_UAVDT_6/YOLOv5_UAVDT_det_lastpt/\n",
      "CommandException: 1 file/object could not be transferred.\n"
     ]
    }
   ],
   "source": [
    "%%script bash\n",
    "date\n",
    "exp=\"YOLOv5_UAVDT_6\"\n",
    "pwd\n",
    "python exec_detection_test.py $exp --device 1 --last-pt-weights\n",
    "gsutil -m cp -r ./$exp/YOLOv5_UAVDT_det_lastpt/ gs://cfdy/Experimentos/$exp/\n",
    "date"
   ]
  },
  {
   "cell_type": "code",
   "execution_count": 9,
   "id": "rough-airplane",
   "metadata": {
    "execution": {
     "iopub.execute_input": "2021-04-07T22:18:32.123302Z",
     "iopub.status.busy": "2021-04-07T22:18:32.122416Z",
     "iopub.status.idle": "2021-04-07T22:18:38.022986Z",
     "shell.execute_reply": "2021-04-07T22:18:38.022070Z"
    }
   },
   "outputs": [
    {
     "name": "stdout",
     "output_type": "stream",
     "text": [
      "Wed Apr  7 19:18:32 -03 2021\n",
      "/home/yuri/Desktop/cfd/RedesNeurais\n",
      "Wed Apr  7 19:18:38 -03 2021\n"
     ]
    },
    {
     "name": "stderr",
     "output_type": "stream",
     "text": [
      "Traceback (most recent call last):\n",
      "  File \"/home/yuri/Desktop/cfd/RedesNeurais/exec_detection_test.py\", line 473, in <module>\n",
      "    Main()\n",
      "  File \"/home/yuri/Desktop/cfd/RedesNeurais/exec_detection_test.py\", line 462, in __init__\n",
      "    YOLOv5_UAVDT_DET()\n",
      "  File \"/home/yuri/Desktop/cfd/RedesNeurais/exec_detection_test.py\", line 111, in __init__\n",
      "    self.run_inference()\n",
      "  File \"/home/yuri/Desktop/cfd/RedesNeurais/exec_detection_test.py\", line 128, in run_inference\n",
      "    if self.use_lastpt_weights: weights_file_path = weights_file_path.parent / 'last.pt'\n",
      "AttributeError: 'str' object has no attribute 'parent'\n",
      "CommandException: No URLs matched: ./YOLOv5_UAVDT_7/YOLOv5_UAVDT_det_lastpt/\n",
      "CommandException: 1 file/object could not be transferred.\n"
     ]
    }
   ],
   "source": [
    "%%script bash\n",
    "date\n",
    "exp=\"YOLOv5_UAVDT_7\"\n",
    "pwd\n",
    "python exec_detection_test.py $exp --device 1 --last-pt-weights\n",
    "gsutil -m cp -r ./$exp/YOLOv5_UAVDT_det_lastpt/ gs://cfdy/Experimentos/$exp/\n",
    "date"
   ]
  },
  {
   "cell_type": "code",
   "execution_count": 10,
   "id": "sufficient-programming",
   "metadata": {
    "execution": {
     "iopub.execute_input": "2021-04-07T22:18:38.031646Z",
     "iopub.status.busy": "2021-04-07T22:18:38.030782Z",
     "iopub.status.idle": "2021-04-07T22:18:43.813300Z",
     "shell.execute_reply": "2021-04-07T22:18:43.812632Z"
    }
   },
   "outputs": [
    {
     "name": "stdout",
     "output_type": "stream",
     "text": [
      "Wed Apr  7 19:18:38 -03 2021\n",
      "/home/yuri/Desktop/cfd/RedesNeurais\n",
      "Wed Apr  7 19:18:43 -03 2021\n"
     ]
    },
    {
     "name": "stderr",
     "output_type": "stream",
     "text": [
      "Traceback (most recent call last):\n",
      "  File \"/home/yuri/Desktop/cfd/RedesNeurais/exec_detection_test.py\", line 473, in <module>\n",
      "    Main()\n",
      "  File \"/home/yuri/Desktop/cfd/RedesNeurais/exec_detection_test.py\", line 462, in __init__\n",
      "    YOLOv5_UAVDT_DET()\n",
      "  File \"/home/yuri/Desktop/cfd/RedesNeurais/exec_detection_test.py\", line 111, in __init__\n",
      "    self.run_inference()\n",
      "  File \"/home/yuri/Desktop/cfd/RedesNeurais/exec_detection_test.py\", line 128, in run_inference\n",
      "    if self.use_lastpt_weights: weights_file_path = weights_file_path.parent / 'last.pt'\n",
      "AttributeError: 'str' object has no attribute 'parent'\n",
      "CommandException: No URLs matched: ./YOLOv5_UAVDT_8/YOLOv5_UAVDT_det_lastpt/\n",
      "CommandException: 1 file/object could not be transferred.\n"
     ]
    }
   ],
   "source": [
    "%%script bash\n",
    "date\n",
    "exp=\"YOLOv5_UAVDT_8\"\n",
    "pwd\n",
    "python exec_detection_test.py $exp --device 1 --last-pt-weights\n",
    "gsutil -m cp -r ./$exp/YOLOv5_UAVDT_det_lastpt/ gs://cfdy/Experimentos/$exp/\n",
    "date"
   ]
  },
  {
   "cell_type": "code",
   "execution_count": 11,
   "id": "undefined-producer",
   "metadata": {
    "execution": {
     "iopub.execute_input": "2021-04-07T22:18:43.822767Z",
     "iopub.status.busy": "2021-04-07T22:18:43.821904Z",
     "iopub.status.idle": "2021-04-07T22:18:50.110478Z",
     "shell.execute_reply": "2021-04-07T22:18:50.109637Z"
    }
   },
   "outputs": [
    {
     "name": "stdout",
     "output_type": "stream",
     "text": [
      "Wed Apr  7 19:18:43 -03 2021\n",
      "/home/yuri/Desktop/cfd/RedesNeurais\n",
      "Wed Apr  7 19:18:50 -03 2021\n"
     ]
    },
    {
     "name": "stderr",
     "output_type": "stream",
     "text": [
      "Traceback (most recent call last):\n",
      "  File \"/home/yuri/Desktop/cfd/RedesNeurais/exec_detection_test.py\", line 473, in <module>\n",
      "    Main()\n",
      "  File \"/home/yuri/Desktop/cfd/RedesNeurais/exec_detection_test.py\", line 462, in __init__\n",
      "    YOLOv5_UAVDT_DET()\n",
      "  File \"/home/yuri/Desktop/cfd/RedesNeurais/exec_detection_test.py\", line 111, in __init__\n",
      "    self.run_inference()\n",
      "  File \"/home/yuri/Desktop/cfd/RedesNeurais/exec_detection_test.py\", line 128, in run_inference\n",
      "    if self.use_lastpt_weights: weights_file_path = weights_file_path.parent / 'last.pt'\n",
      "AttributeError: 'str' object has no attribute 'parent'\n",
      "CommandException: No URLs matched: ./YOLOv5_UAVDT_9/YOLOv5_UAVDT_det_lastpt/\n",
      "CommandException: 1 file/object could not be transferred.\n"
     ]
    }
   ],
   "source": [
    "%%script bash\n",
    "date\n",
    "exp=\"YOLOv5_UAVDT_9\"\n",
    "pwd\n",
    "python exec_detection_test.py $exp --device 1 --last-pt-weights\n",
    "gsutil -m cp -r ./$exp/YOLOv5_UAVDT_det_lastpt/ gs://cfdy/Experimentos/$exp/\n",
    "date"
   ]
  },
  {
   "cell_type": "code",
   "execution_count": 12,
   "id": "enclosed-problem",
   "metadata": {
    "execution": {
     "iopub.execute_input": "2021-04-07T22:18:50.119531Z",
     "iopub.status.busy": "2021-04-07T22:18:50.118664Z",
     "iopub.status.idle": "2021-04-07T22:18:56.206693Z",
     "shell.execute_reply": "2021-04-07T22:18:56.205805Z"
    }
   },
   "outputs": [
    {
     "name": "stdout",
     "output_type": "stream",
     "text": [
      "Wed Apr  7 19:18:50 -03 2021\n",
      "/home/yuri/Desktop/cfd/RedesNeurais\n",
      "Wed Apr  7 19:18:56 -03 2021\n"
     ]
    },
    {
     "name": "stderr",
     "output_type": "stream",
     "text": [
      "Traceback (most recent call last):\n",
      "  File \"/home/yuri/Desktop/cfd/RedesNeurais/exec_detection_test.py\", line 473, in <module>\n",
      "    Main()\n",
      "  File \"/home/yuri/Desktop/cfd/RedesNeurais/exec_detection_test.py\", line 462, in __init__\n",
      "    YOLOv5_UAVDT_DET()\n",
      "  File \"/home/yuri/Desktop/cfd/RedesNeurais/exec_detection_test.py\", line 111, in __init__\n",
      "    self.run_inference()\n",
      "  File \"/home/yuri/Desktop/cfd/RedesNeurais/exec_detection_test.py\", line 128, in run_inference\n",
      "    if self.use_lastpt_weights: weights_file_path = weights_file_path.parent / 'last.pt'\n",
      "AttributeError: 'str' object has no attribute 'parent'\n",
      "CommandException: No URLs matched: ./YOLOv5_UAVDT_10/YOLOv5_UAVDT_det_lastpt/\n",
      "CommandException: 1 file/object could not be transferred.\n"
     ]
    }
   ],
   "source": [
    "%%script bash\n",
    "date\n",
    "exp=\"YOLOv5_UAVDT_10\"\n",
    "pwd\n",
    "python exec_detection_test.py $exp --device 1 --last-pt-weights\n",
    "gsutil -m cp -r ./$exp/YOLOv5_UAVDT_det_lastpt/ gs://cfdy/Experimentos/$exp/\n",
    "date"
   ]
  },
  {
   "cell_type": "code",
   "execution_count": 13,
   "id": "trying-development",
   "metadata": {
    "execution": {
     "iopub.execute_input": "2021-04-07T22:18:56.215199Z",
     "iopub.status.busy": "2021-04-07T22:18:56.214316Z",
     "iopub.status.idle": "2021-04-07T22:19:02.577598Z",
     "shell.execute_reply": "2021-04-07T22:19:02.576344Z"
    }
   },
   "outputs": [
    {
     "name": "stdout",
     "output_type": "stream",
     "text": [
      "Wed Apr  7 19:18:56 -03 2021\n",
      "/home/yuri/Desktop/cfd/RedesNeurais\n",
      "Wed Apr  7 19:19:02 -03 2021\n"
     ]
    },
    {
     "name": "stderr",
     "output_type": "stream",
     "text": [
      "Traceback (most recent call last):\n",
      "  File \"/home/yuri/Desktop/cfd/RedesNeurais/exec_detection_test.py\", line 473, in <module>\n",
      "    Main()\n",
      "  File \"/home/yuri/Desktop/cfd/RedesNeurais/exec_detection_test.py\", line 462, in __init__\n",
      "    YOLOv5_UAVDT_DET()\n",
      "  File \"/home/yuri/Desktop/cfd/RedesNeurais/exec_detection_test.py\", line 111, in __init__\n",
      "    self.run_inference()\n",
      "  File \"/home/yuri/Desktop/cfd/RedesNeurais/exec_detection_test.py\", line 128, in run_inference\n",
      "    if self.use_lastpt_weights: weights_file_path = weights_file_path.parent / 'last.pt'\n",
      "AttributeError: 'str' object has no attribute 'parent'\n",
      "CommandException: No URLs matched: ./YOLOv5_UAVDT_11/YOLOv5_UAVDT_det_lastpt/\n",
      "CommandException: 1 file/object could not be transferred.\n"
     ]
    }
   ],
   "source": [
    "%%script bash\n",
    "date\n",
    "exp=\"YOLOv5_UAVDT_11\"\n",
    "pwd\n",
    "python exec_detection_test.py $exp --device 1 --last-pt-weights\n",
    "gsutil -m cp -r ./$exp/YOLOv5_UAVDT_det_lastpt/ gs://cfdy/Experimentos/$exp/\n",
    "date"
   ]
  },
  {
   "cell_type": "code",
   "execution_count": 14,
   "id": "developed-glasgow",
   "metadata": {
    "execution": {
     "iopub.execute_input": "2021-04-07T22:19:02.586922Z",
     "iopub.status.busy": "2021-04-07T22:19:02.586044Z",
     "iopub.status.idle": "2021-04-07T22:19:08.341594Z",
     "shell.execute_reply": "2021-04-07T22:19:08.340530Z"
    }
   },
   "outputs": [
    {
     "name": "stdout",
     "output_type": "stream",
     "text": [
      "Wed Apr  7 19:19:02 -03 2021\n",
      "/home/yuri/Desktop/cfd/RedesNeurais\n",
      "Wed Apr  7 19:19:08 -03 2021\n"
     ]
    },
    {
     "name": "stderr",
     "output_type": "stream",
     "text": [
      "Traceback (most recent call last):\n",
      "  File \"/home/yuri/Desktop/cfd/RedesNeurais/exec_detection_test.py\", line 473, in <module>\n",
      "    Main()\n",
      "  File \"/home/yuri/Desktop/cfd/RedesNeurais/exec_detection_test.py\", line 462, in __init__\n",
      "    YOLOv5_UAVDT_DET()\n",
      "  File \"/home/yuri/Desktop/cfd/RedesNeurais/exec_detection_test.py\", line 111, in __init__\n",
      "    self.run_inference()\n",
      "  File \"/home/yuri/Desktop/cfd/RedesNeurais/exec_detection_test.py\", line 128, in run_inference\n",
      "    if self.use_lastpt_weights: weights_file_path = weights_file_path.parent / 'last.pt'\n",
      "AttributeError: 'str' object has no attribute 'parent'\n",
      "CommandException: No URLs matched: ./YOLOv5_UAVDT_12/YOLOv5_UAVDT_det_lastpt/\n",
      "CommandException: 1 file/object could not be transferred.\n"
     ]
    }
   ],
   "source": [
    "%%script bash\n",
    "date\n",
    "exp=\"YOLOv5_UAVDT_12\"\n",
    "pwd\n",
    "python exec_detection_test.py $exp --device 1 --last-pt-weights\n",
    "gsutil -m cp -r ./$exp/YOLOv5_UAVDT_det_lastpt/ gs://cfdy/Experimentos/$exp/\n",
    "date"
   ]
  },
  {
   "cell_type": "code",
   "execution_count": 15,
   "id": "thermal-automation",
   "metadata": {
    "execution": {
     "iopub.execute_input": "2021-04-07T22:19:08.350304Z",
     "iopub.status.busy": "2021-04-07T22:19:08.347171Z",
     "iopub.status.idle": "2021-04-07T22:19:14.524558Z",
     "shell.execute_reply": "2021-04-07T22:19:14.521712Z"
    }
   },
   "outputs": [
    {
     "name": "stdout",
     "output_type": "stream",
     "text": [
      "Wed Apr  7 19:19:08 -03 2021\n",
      "/home/yuri/Desktop/cfd/RedesNeurais\n",
      "Wed Apr  7 19:19:14 -03 2021\n"
     ]
    },
    {
     "name": "stderr",
     "output_type": "stream",
     "text": [
      "Traceback (most recent call last):\n",
      "  File \"/home/yuri/Desktop/cfd/RedesNeurais/exec_detection_test.py\", line 473, in <module>\n",
      "    Main()\n",
      "  File \"/home/yuri/Desktop/cfd/RedesNeurais/exec_detection_test.py\", line 462, in __init__\n",
      "    YOLOv5_UAVDT_DET()\n",
      "  File \"/home/yuri/Desktop/cfd/RedesNeurais/exec_detection_test.py\", line 111, in __init__\n",
      "    self.run_inference()\n",
      "  File \"/home/yuri/Desktop/cfd/RedesNeurais/exec_detection_test.py\", line 128, in run_inference\n",
      "    if self.use_lastpt_weights: weights_file_path = weights_file_path.parent / 'last.pt'\n",
      "AttributeError: 'str' object has no attribute 'parent'\n",
      "CommandException: No URLs matched: ./YOLOv5_UAVDT_13/YOLOv5_UAVDT_det_lastpt/\n",
      "CommandException: 1 file/object could not be transferred.\n"
     ]
    }
   ],
   "source": [
    "%%script bash\n",
    "date\n",
    "exp=\"YOLOv5_UAVDT_13\"\n",
    "pwd\n",
    "python exec_detection_test.py $exp --device 1 --last-pt-weights\n",
    "gsutil -m cp -r ./$exp/YOLOv5_UAVDT_det_lastpt/ gs://cfdy/Experimentos/$exp/\n",
    "date"
   ]
  },
  {
   "cell_type": "code",
   "execution_count": 16,
   "id": "modern-newton",
   "metadata": {
    "execution": {
     "iopub.execute_input": "2021-04-07T22:19:14.533224Z",
     "iopub.status.busy": "2021-04-07T22:19:14.532284Z",
     "iopub.status.idle": "2021-04-07T22:19:20.559191Z",
     "shell.execute_reply": "2021-04-07T22:19:20.558292Z"
    }
   },
   "outputs": [
    {
     "name": "stdout",
     "output_type": "stream",
     "text": [
      "Wed Apr  7 19:19:14 -03 2021\n",
      "/home/yuri/Desktop/cfd/RedesNeurais\n",
      "Wed Apr  7 19:19:20 -03 2021\n"
     ]
    },
    {
     "name": "stderr",
     "output_type": "stream",
     "text": [
      "Traceback (most recent call last):\n",
      "  File \"/home/yuri/Desktop/cfd/RedesNeurais/exec_detection_test.py\", line 473, in <module>\n",
      "    Main()\n",
      "  File \"/home/yuri/Desktop/cfd/RedesNeurais/exec_detection_test.py\", line 462, in __init__\n",
      "    YOLOv5_UAVDT_DET()\n",
      "  File \"/home/yuri/Desktop/cfd/RedesNeurais/exec_detection_test.py\", line 111, in __init__\n",
      "    self.run_inference()\n",
      "  File \"/home/yuri/Desktop/cfd/RedesNeurais/exec_detection_test.py\", line 128, in run_inference\n",
      "    if self.use_lastpt_weights: weights_file_path = weights_file_path.parent / 'last.pt'\n",
      "AttributeError: 'str' object has no attribute 'parent'\n",
      "CommandException: No URLs matched: ./YOLOv5_UAVDT_14/YOLOv5_UAVDT_det_lastpt/\n",
      "CommandException: 1 file/object could not be transferred.\n"
     ]
    }
   ],
   "source": [
    "%%script bash\n",
    "date\n",
    "exp=\"YOLOv5_UAVDT_14\"\n",
    "pwd\n",
    "python exec_detection_test.py $exp --device 1 --last-pt-weights\n",
    "gsutil -m cp -r ./$exp/YOLOv5_UAVDT_det_lastpt/ gs://cfdy/Experimentos/$exp/\n",
    "date"
   ]
  },
  {
   "cell_type": "code",
   "execution_count": 17,
   "id": "geological-tragedy",
   "metadata": {
    "execution": {
     "iopub.execute_input": "2021-04-07T22:19:20.568860Z",
     "iopub.status.busy": "2021-04-07T22:19:20.567794Z",
     "iopub.status.idle": "2021-04-07T22:19:27.087231Z",
     "shell.execute_reply": "2021-04-07T22:19:27.086204Z"
    }
   },
   "outputs": [
    {
     "name": "stdout",
     "output_type": "stream",
     "text": [
      "Wed Apr  7 19:19:20 -03 2021\n",
      "/home/yuri/Desktop/cfd/RedesNeurais\n",
      "Wed Apr  7 19:19:27 -03 2021\n"
     ]
    },
    {
     "name": "stderr",
     "output_type": "stream",
     "text": [
      "Traceback (most recent call last):\n",
      "  File \"/home/yuri/Desktop/cfd/RedesNeurais/exec_detection_test.py\", line 473, in <module>\n",
      "    Main()\n",
      "  File \"/home/yuri/Desktop/cfd/RedesNeurais/exec_detection_test.py\", line 462, in __init__\n",
      "    YOLOv5_UAVDT_DET()\n",
      "  File \"/home/yuri/Desktop/cfd/RedesNeurais/exec_detection_test.py\", line 111, in __init__\n",
      "    self.run_inference()\n",
      "  File \"/home/yuri/Desktop/cfd/RedesNeurais/exec_detection_test.py\", line 128, in run_inference\n",
      "    if self.use_lastpt_weights: weights_file_path = weights_file_path.parent / 'last.pt'\n",
      "AttributeError: 'str' object has no attribute 'parent'\n",
      "CommandException: No URLs matched: ./YOLOv5_UAVDT_15/YOLOv5_UAVDT_det_lastpt/\n",
      "CommandException: 1 file/object could not be transferred.\n"
     ]
    }
   ],
   "source": [
    "%%script bash\n",
    "date\n",
    "exp=\"YOLOv5_UAVDT_15\"\n",
    "pwd\n",
    "python exec_detection_test.py $exp --device 1 --last-pt-weights\n",
    "gsutil -m cp -r ./$exp/YOLOv5_UAVDT_det_lastpt/ gs://cfdy/Experimentos/$exp/\n",
    "date"
   ]
  }
 ],
 "metadata": {
  "kernelspec": {
   "display_name": "Python 3",
   "language": "python",
   "name": "python3"
  },
  "language_info": {
   "codemirror_mode": {
    "name": "ipython",
    "version": 3
   },
   "file_extension": ".py",
   "mimetype": "text/x-python",
   "name": "python",
   "nbconvert_exporter": "python",
   "pygments_lexer": "ipython3",
   "version": "3.9.0"
  }
 },
 "nbformat": 4,
 "nbformat_minor": 5
}
