{
 "cells": [
  {
   "cell_type": "markdown",
   "id": "forbidden-breach",
   "metadata": {},
   "source": [
    "# Scripts para executar a detecção no conjunto de dados.\n",
    "\n",
    "Rede: YOLOv5.\n",
    "\n",
    "Experimentos: YOLOv5_UAVDT_0 ... YOLOv5_UAVDT_7 + YOLOv5_UAVDT_301 + YOLOv5_UAVDT_302"
   ]
  },
  {
   "cell_type": "markdown",
   "id": "modular-benefit",
   "metadata": {},
   "source": [
    "```bash\n",
    "conda activate yv5r4; mkdir logs; experimento=\"yv5_testset_det_scripts\"; outputFileName=$(date \"+\"$experimento\"_ipynb_%d_%B_%Y_%Hh_%Mm_%Ss\"); echo \"Salvando log de execucao em: $outputFileName.txt\"; nohup jupyter nbconvert --to notebook --execute --allow-errors --output \"./logs/$outputFileName\" --ExecutePreprocessor.timeout=-1 --Application.log_level=10 $experimento.ipynb &> \"./logs/$outputFileName.txt\" &\n",
    "```"
   ]
  },
  {
   "cell_type": "code",
   "execution_count": 1,
   "id": "statistical-lending",
   "metadata": {
    "execution": {
     "iopub.execute_input": "2021-03-04T21:15:15.190693Z",
     "iopub.status.busy": "2021-03-04T21:15:15.187794Z",
     "iopub.status.idle": "2021-03-04T21:15:15.702515Z",
     "shell.execute_reply": "2021-03-04T21:15:15.701478Z"
    }
   },
   "outputs": [
    {
     "name": "stdout",
     "output_type": "stream",
     "text": [
      "Thu Mar  4 18:15:15 -03 2021\r\n",
      "/home/yuri/Desktop/cfd/RedesNeurais\r\n",
      "CONDA_EXE=/home/yuri/anaconda3/bin/conda\r\n",
      "PATH=/home/yuri/anaconda3/envs/yv5r4/bin:/home/yuri/bin:/home/yuri/.local/bin:/home/yuri/google-cloud-sdk/bin:/home/yuri/libs_yuri:/usr/local/cuda/bin:/home/yuri/anaconda3/condabin:/usr/local/sbin:/usr/local/bin:/usr/sbin:/usr/bin:/sbin:/bin:/usr/games:/usr/local/games:/snap/bin\r\n",
      "GSETTINGS_SCHEMA_DIR=/home/yuri/anaconda3/envs/yv5r4/share/glib-2.0/schemas\r\n",
      "CONDA_PREFIX=/home/yuri/anaconda3/envs/yv5r4\r\n",
      "CONDA_PYTHON_EXE=/home/yuri/anaconda3/bin/python\r\n",
      "Thu Mar  4 18:15:15 2021       \r\n",
      "+-----------------------------------------------------------------------------+\r\n",
      "| NVIDIA-SMI 418.181.07   Driver Version: 418.181.07   CUDA Version: 10.1     |\r\n",
      "|-------------------------------+----------------------+----------------------+\r\n",
      "| GPU  Name        Persistence-M| Bus-Id        Disp.A | Volatile Uncorr. ECC |\r\n",
      "| Fan  Temp  Perf  Pwr:Usage/Cap|         Memory-Usage | GPU-Util  Compute M. |\r\n",
      "|===============================+======================+======================|\r\n",
      "|   0  GeForce GTX 108...  Off  | 00000000:01:00.0 Off |                  N/A |\r\n",
      "|  0%   49C    P8    14W / 280W |    789MiB / 11178MiB |      0%      Default |\r\n",
      "+-------------------------------+----------------------+----------------------+\r\n",
      "|   1  GeForce GTX 108...  Off  | 00000000:02:00.0 Off |                  N/A |\r\n",
      "| 72%   84C    P2   104W / 280W |   3175MiB / 11178MiB |     66%      Default |\r\n",
      "+-------------------------------+----------------------+----------------------+\r\n",
      "|   2  GeForce GTX 108...  Off  | 00000000:03:00.0 Off |                  N/A |\r\n",
      "|100%   89C    P2    91W / 280W |   9525MiB / 11178MiB |    100%      Default |\r\n",
      "+-------------------------------+----------------------+----------------------+\r\n",
      "|   3  GeForce GTX 108...  Off  | 00000000:04:00.0 Off |                  N/A |\r\n",
      "| 29%   63C    P8    15W / 280W |     10MiB / 11177MiB |      0%      Default |\r\n",
      "+-------------------------------+----------------------+----------------------+\r\n",
      "                                                                               \r\n",
      "+-----------------------------------------------------------------------------+\r\n",
      "| Processes:                                                       GPU Memory |\r\n",
      "|  GPU       PID   Type   Process name                             Usage      |\r\n",
      "|=============================================================================|\r\n",
      "|    0     13487      C   ...yres/miniconda3/envs/pytorch/bin/python   779MiB |\r\n",
      "|    1     29787      C   python                                      3165MiB |\r\n",
      "|    2     29790      C   python                                      9515MiB |\r\n",
      "+-----------------------------------------------------------------------------+\r\n"
     ]
    }
   ],
   "source": [
    "!date\n",
    "!pwd\n",
    "!printenv | grep conda\n",
    "!nvidia-smi"
   ]
  },
  {
   "cell_type": "code",
   "execution_count": 2,
   "id": "coated-responsibility",
   "metadata": {
    "execution": {
     "iopub.execute_input": "2021-03-04T21:15:15.706467Z",
     "iopub.status.busy": "2021-03-04T21:15:15.705610Z",
     "iopub.status.idle": "2021-03-04T21:15:15.708259Z",
     "shell.execute_reply": "2021-03-04T21:15:15.707379Z"
    }
   },
   "outputs": [],
   "source": [
    "# %%script bash\n",
    "# date\n",
    "# exp=\"YOLOv5_UAVDT_0\"\n",
    "# pwd\n",
    "# python exec_detection_test.py $exp --device 1\n",
    "# gsutil -m cp -r ./$exp/YOLOv5_UAVDT_det/ gs://cfdy/Experimentos/$exp/\n",
    "# date"
   ]
  },
  {
   "cell_type": "code",
   "execution_count": 3,
   "id": "still-platinum",
   "metadata": {
    "execution": {
     "iopub.execute_input": "2021-03-04T21:15:15.711911Z",
     "iopub.status.busy": "2021-03-04T21:15:15.711090Z",
     "iopub.status.idle": "2021-03-04T21:15:15.712677Z",
     "shell.execute_reply": "2021-03-04T21:15:15.713356Z"
    }
   },
   "outputs": [],
   "source": [
    "# %%script bash\n",
    "# date\n",
    "# exp=\"YOLOv5_UAVDT_1\"\n",
    "# pwd\n",
    "# python exec_detection_test.py $exp --device 1\n",
    "# gsutil -m cp -r ./$exp/YOLOv5_UAVDT_det/ gs://cfdy/Experimentos/$exp/\n",
    "# date"
   ]
  },
  {
   "cell_type": "code",
   "execution_count": 4,
   "id": "illegal-television",
   "metadata": {
    "execution": {
     "iopub.execute_input": "2021-03-04T21:15:15.716924Z",
     "iopub.status.busy": "2021-03-04T21:15:15.716115Z",
     "iopub.status.idle": "2021-03-04T21:15:15.717811Z",
     "shell.execute_reply": "2021-03-04T21:15:15.718388Z"
    }
   },
   "outputs": [],
   "source": [
    "# %%script bash\n",
    "# date\n",
    "# exp=\"YOLOv5_UAVDT_2\"\n",
    "# pwd\n",
    "# python exec_detection_test.py $exp --device 1\n",
    "# gsutil -m cp -r ./$exp/YOLOv5_UAVDT_det/ gs://cfdy/Experimentos/$exp/\n",
    "# date"
   ]
  },
  {
   "cell_type": "code",
   "execution_count": 5,
   "id": "included-official",
   "metadata": {
    "execution": {
     "iopub.execute_input": "2021-03-04T21:15:15.722492Z",
     "iopub.status.busy": "2021-03-04T21:15:15.721755Z",
     "iopub.status.idle": "2021-03-04T21:15:15.723943Z",
     "shell.execute_reply": "2021-03-04T21:15:15.723334Z"
    }
   },
   "outputs": [],
   "source": [
    "# %%script bash\n",
    "# date\n",
    "# exp=\"YOLOv5_UAVDT_3\"\n",
    "# pwd\n",
    "# python exec_detection_test.py $exp --device 1\n",
    "# gsutil -m cp -r ./$exp/YOLOv5_UAVDT_det/ gs://cfdy/Experimentos/$exp/\n",
    "# date"
   ]
  },
  {
   "cell_type": "code",
   "execution_count": 6,
   "id": "aging-double",
   "metadata": {
    "execution": {
     "iopub.execute_input": "2021-03-04T21:15:15.727460Z",
     "iopub.status.busy": "2021-03-04T21:15:15.726588Z",
     "iopub.status.idle": "2021-03-04T21:15:15.728668Z",
     "shell.execute_reply": "2021-03-04T21:15:15.729196Z"
    }
   },
   "outputs": [],
   "source": [
    "# %%script bash\n",
    "# date\n",
    "# exp=\"YOLOv5_UAVDT_4\"\n",
    "# pwd\n",
    "# python exec_detection_test.py $exp --device 1\n",
    "# gsutil -m cp -r ./$exp/YOLOv5_UAVDT_det/ gs://cfdy/Experimentos/$exp/\n",
    "# date"
   ]
  },
  {
   "cell_type": "code",
   "execution_count": 7,
   "id": "abroad-hunger",
   "metadata": {
    "execution": {
     "iopub.execute_input": "2021-03-04T21:15:15.733763Z",
     "iopub.status.busy": "2021-03-04T21:15:15.732406Z",
     "iopub.status.idle": "2021-03-04T21:15:15.734385Z",
     "shell.execute_reply": "2021-03-04T21:15:15.734911Z"
    }
   },
   "outputs": [],
   "source": [
    "# %%script bash\n",
    "# date\n",
    "# exp=\"YOLOv5_UAVDT_5\"\n",
    "# pwd\n",
    "# python exec_detection_test.py $exp --device 1\n",
    "# gsutil -m cp -r ./$exp/YOLOv5_UAVDT_det/ gs://cfdy/Experimentos/$exp/\n",
    "# date"
   ]
  },
  {
   "cell_type": "code",
   "execution_count": 8,
   "id": "varied-commonwealth",
   "metadata": {
    "execution": {
     "iopub.execute_input": "2021-03-04T21:15:15.738635Z",
     "iopub.status.busy": "2021-03-04T21:15:15.737957Z",
     "iopub.status.idle": "2021-03-04T21:15:15.739715Z",
     "shell.execute_reply": "2021-03-04T21:15:15.740152Z"
    }
   },
   "outputs": [],
   "source": [
    "# %%script bash\n",
    "# date\n",
    "# exp=\"YOLOv5_UAVDT_6\"\n",
    "# pwd\n",
    "# python exec_detection_test.py $exp --device 1\n",
    "# gsutil -m cp -r ./$exp/YOLOv5_UAVDT_det/ gs://cfdy/Experimentos/$exp/\n",
    "# date"
   ]
  },
  {
   "cell_type": "code",
   "execution_count": 9,
   "id": "rough-airplane",
   "metadata": {
    "execution": {
     "iopub.execute_input": "2021-03-04T21:15:15.743328Z",
     "iopub.status.busy": "2021-03-04T21:15:15.742784Z",
     "iopub.status.idle": "2021-03-04T21:15:15.744974Z",
     "shell.execute_reply": "2021-03-04T21:15:15.744440Z"
    }
   },
   "outputs": [],
   "source": [
    "# %%script bash\n",
    "# date\n",
    "# exp=\"YOLOv5_UAVDT_7\"\n",
    "# pwd\n",
    "# python exec_detection_test.py $exp --device 1\n",
    "# gsutil -m cp -r ./$exp/YOLOv5_UAVDT_det/ gs://cfdy/Experimentos/$exp/\n",
    "# date"
   ]
  },
  {
   "cell_type": "code",
   "execution_count": 10,
   "id": "sufficient-programming",
   "metadata": {
    "execution": {
     "iopub.execute_input": "2021-03-04T21:15:15.748385Z",
     "iopub.status.busy": "2021-03-04T21:15:15.747878Z",
     "iopub.status.idle": "2021-03-04T21:15:15.749491Z",
     "shell.execute_reply": "2021-03-04T21:15:15.749912Z"
    }
   },
   "outputs": [],
   "source": [
    "# %%script bash\n",
    "# date\n",
    "# exp=\"YOLOv5_UAVDT_301\"\n",
    "# pwd\n",
    "# python exec_detection_test.py $exp --device 1\n",
    "# gsutil -m cp -r ./$exp/YOLOv5_UAVDT_det/ gs://cfdy/Experimentos/$exp/\n",
    "# date"
   ]
  },
  {
   "cell_type": "code",
   "execution_count": 11,
   "id": "undefined-producer",
   "metadata": {
    "execution": {
     "iopub.execute_input": "2021-03-04T21:15:15.753247Z",
     "iopub.status.busy": "2021-03-04T21:15:15.752717Z",
     "iopub.status.idle": "2021-03-04T21:15:15.755253Z",
     "shell.execute_reply": "2021-03-04T21:15:15.754703Z"
    }
   },
   "outputs": [],
   "source": [
    "# %%script bash\n",
    "# date\n",
    "# exp=\"YOLOv5_UAVDT_302\"\n",
    "# pwd\n",
    "# python exec_detection_test.py $exp --device 1\n",
    "# gsutil -m cp -r ./$exp/YOLOv5_UAVDT_det/ gs://cfdy/Experimentos/$exp/\n",
    "# date"
   ]
  },
  {
   "cell_type": "code",
   "execution_count": 12,
   "id": "enclosed-problem",
   "metadata": {
    "execution": {
     "iopub.execute_input": "2021-03-04T21:15:15.761675Z",
     "iopub.status.busy": "2021-03-04T21:15:15.759834Z",
     "iopub.status.idle": "2021-03-04T21:15:17.588482Z",
     "shell.execute_reply": "2021-03-04T21:15:17.589014Z"
    }
   },
   "outputs": [
    {
     "name": "stdout",
     "output_type": "stream",
     "text": [
      "Thu Mar  4 18:15:15 -03 2021\n",
      "/home/yuri/Desktop/cfd/RedesNeurais\n",
      "Thu Mar  4 18:15:17 -03 2021\n"
     ]
    },
    {
     "name": "stderr",
     "output_type": "stream",
     "text": [
      "Traceback (most recent call last):\n",
      "  File \"/home/yuri/Desktop/cfd/RedesNeurais/exec_detection_test.py\", line 453, in <module>\n",
      "    Main()\n",
      "  File \"/home/yuri/Desktop/cfd/RedesNeurais/exec_detection_test.py\", line 442, in __init__\n",
      "    YOLOv5_UAVDT_DET()\n",
      "  File \"/home/yuri/Desktop/cfd/RedesNeurais/exec_detection_test.py\", line 97, in __init__\n",
      "    raise Exception(f\"Experimento '{self.experimento}' não encontrado.\" +\\\n",
      "Exception: Experimento 'YOLOv5_UAVDT_8' não encontrado.Experimentos disponíveis: dict_keys(['YOLOv5_UAVDT_0', 'YOLOv5_UAVDT_1', 'YOLOv5_UAVDT_2', 'YOLOv5_UAVDT_3', 'YOLOv5_UAVDT_4', 'YOLOv5_UAVDT_5', 'YOLOv5_UAVDT_6', 'YOLOv5_UAVDT_7', 'YOLOv5_UAVDT_301', 'YOLOv5_UAVDT_302']).\n",
      "CommandException: No URLs matched: ./YOLOv5_UAVDT_8/YOLOv5_UAVDT_det/\n",
      "CommandException: 1 file/object could not be transferred.\n"
     ]
    }
   ],
   "source": [
    "%%script bash\n",
    "date\n",
    "exp=\"YOLOv5_UAVDT_8\"\n",
    "pwd\n",
    "python exec_detection_test.py $exp --device 1\n",
    "gsutil -m cp -r ./$exp/YOLOv5_UAVDT_det/ gs://cfdy/Experimentos/$exp/\n",
    "date"
   ]
  },
  {
   "cell_type": "code",
   "execution_count": 13,
   "id": "trying-development",
   "metadata": {
    "execution": {
     "iopub.execute_input": "2021-03-04T21:15:17.594689Z",
     "iopub.status.busy": "2021-03-04T21:15:17.593874Z",
     "iopub.status.idle": "2021-03-04T21:15:19.630386Z",
     "shell.execute_reply": "2021-03-04T21:15:19.629624Z"
    }
   },
   "outputs": [
    {
     "name": "stdout",
     "output_type": "stream",
     "text": [
      "Thu Mar  4 18:15:17 -03 2021\n",
      "/home/yuri/Desktop/cfd/RedesNeurais\n",
      "Thu Mar  4 18:15:19 -03 2021\n"
     ]
    },
    {
     "name": "stderr",
     "output_type": "stream",
     "text": [
      "Traceback (most recent call last):\n",
      "  File \"/home/yuri/Desktop/cfd/RedesNeurais/exec_detection_test.py\", line 453, in <module>\n",
      "    Main()\n",
      "  File \"/home/yuri/Desktop/cfd/RedesNeurais/exec_detection_test.py\", line 442, in __init__\n",
      "    YOLOv5_UAVDT_DET()\n",
      "  File \"/home/yuri/Desktop/cfd/RedesNeurais/exec_detection_test.py\", line 97, in __init__\n",
      "    raise Exception(f\"Experimento '{self.experimento}' não encontrado.\" +\\\n",
      "Exception: Experimento 'YOLOv5_UAVDT_9' não encontrado.Experimentos disponíveis: dict_keys(['YOLOv5_UAVDT_0', 'YOLOv5_UAVDT_1', 'YOLOv5_UAVDT_2', 'YOLOv5_UAVDT_3', 'YOLOv5_UAVDT_4', 'YOLOv5_UAVDT_5', 'YOLOv5_UAVDT_6', 'YOLOv5_UAVDT_7', 'YOLOv5_UAVDT_301', 'YOLOv5_UAVDT_302']).\n",
      "CommandException: No URLs matched: ./YOLOv5_UAVDT_9/YOLOv5_UAVDT_det/\n",
      "CommandException: 1 file/object could not be transferred.\n"
     ]
    }
   ],
   "source": [
    "%%script bash\n",
    "date\n",
    "exp=\"YOLOv5_UAVDT_9\"\n",
    "pwd\n",
    "python exec_detection_test.py $exp --device 1\n",
    "gsutil -m cp -r ./$exp/YOLOv5_UAVDT_det/ gs://cfdy/Experimentos/$exp/\n",
    "date"
   ]
  },
  {
   "cell_type": "code",
   "execution_count": 14,
   "id": "developed-glasgow",
   "metadata": {
    "execution": {
     "iopub.execute_input": "2021-03-04T21:15:19.635074Z",
     "iopub.status.busy": "2021-03-04T21:15:19.634340Z",
     "iopub.status.idle": "2021-03-04T21:15:21.483877Z",
     "shell.execute_reply": "2021-03-04T21:15:21.484454Z"
    }
   },
   "outputs": [
    {
     "name": "stdout",
     "output_type": "stream",
     "text": [
      "Thu Mar  4 18:15:19 -03 2021\n",
      "/home/yuri/Desktop/cfd/RedesNeurais\n",
      "Thu Mar  4 18:15:21 -03 2021\n"
     ]
    },
    {
     "name": "stderr",
     "output_type": "stream",
     "text": [
      "Traceback (most recent call last):\n",
      "  File \"/home/yuri/Desktop/cfd/RedesNeurais/exec_detection_test.py\", line 453, in <module>\n",
      "    Main()\n",
      "  File \"/home/yuri/Desktop/cfd/RedesNeurais/exec_detection_test.py\", line 442, in __init__\n",
      "    YOLOv5_UAVDT_DET()\n",
      "  File \"/home/yuri/Desktop/cfd/RedesNeurais/exec_detection_test.py\", line 97, in __init__\n",
      "    raise Exception(f\"Experimento '{self.experimento}' não encontrado.\" +\\\n",
      "Exception: Experimento 'YOLOv5_UAVDT_10' não encontrado.Experimentos disponíveis: dict_keys(['YOLOv5_UAVDT_0', 'YOLOv5_UAVDT_1', 'YOLOv5_UAVDT_2', 'YOLOv5_UAVDT_3', 'YOLOv5_UAVDT_4', 'YOLOv5_UAVDT_5', 'YOLOv5_UAVDT_6', 'YOLOv5_UAVDT_7', 'YOLOv5_UAVDT_301', 'YOLOv5_UAVDT_302']).\n",
      "CommandException: No URLs matched: ./YOLOv5_UAVDT_10/YOLOv5_UAVDT_det/\n",
      "CommandException: 1 file/object could not be transferred.\n"
     ]
    }
   ],
   "source": [
    "%%script bash\n",
    "date\n",
    "exp=\"YOLOv5_UAVDT_10\"\n",
    "pwd\n",
    "python exec_detection_test.py $exp --device 1\n",
    "gsutil -m cp -r ./$exp/YOLOv5_UAVDT_det/ gs://cfdy/Experimentos/$exp/\n",
    "date"
   ]
  },
  {
   "cell_type": "code",
   "execution_count": 15,
   "id": "thermal-automation",
   "metadata": {
    "execution": {
     "iopub.execute_input": "2021-03-04T21:15:21.490680Z",
     "iopub.status.busy": "2021-03-04T21:15:21.489493Z",
     "iopub.status.idle": "2021-03-04T21:15:23.177703Z",
     "shell.execute_reply": "2021-03-04T21:15:23.178210Z"
    }
   },
   "outputs": [
    {
     "name": "stdout",
     "output_type": "stream",
     "text": [
      "Thu Mar  4 18:15:21 -03 2021\n",
      "/home/yuri/Desktop/cfd/RedesNeurais\n",
      "Thu Mar  4 18:15:23 -03 2021\n"
     ]
    },
    {
     "name": "stderr",
     "output_type": "stream",
     "text": [
      "Traceback (most recent call last):\n",
      "  File \"/home/yuri/Desktop/cfd/RedesNeurais/exec_detection_test.py\", line 453, in <module>\n",
      "    Main()\n",
      "  File \"/home/yuri/Desktop/cfd/RedesNeurais/exec_detection_test.py\", line 442, in __init__\n",
      "    YOLOv5_UAVDT_DET()\n",
      "  File \"/home/yuri/Desktop/cfd/RedesNeurais/exec_detection_test.py\", line 97, in __init__\n",
      "    raise Exception(f\"Experimento '{self.experimento}' não encontrado.\" +\\\n",
      "Exception: Experimento 'YOLOv5_UAVDT_11' não encontrado.Experimentos disponíveis: dict_keys(['YOLOv5_UAVDT_0', 'YOLOv5_UAVDT_1', 'YOLOv5_UAVDT_2', 'YOLOv5_UAVDT_3', 'YOLOv5_UAVDT_4', 'YOLOv5_UAVDT_5', 'YOLOv5_UAVDT_6', 'YOLOv5_UAVDT_7', 'YOLOv5_UAVDT_301', 'YOLOv5_UAVDT_302']).\n",
      "CommandException: No URLs matched: ./YOLOv5_UAVDT_11/YOLOv5_UAVDT_det/\n",
      "CommandException: 1 file/object could not be transferred.\n"
     ]
    }
   ],
   "source": [
    "%%script bash\n",
    "date\n",
    "exp=\"YOLOv5_UAVDT_11\"\n",
    "pwd\n",
    "python exec_detection_test.py $exp --device 1\n",
    "gsutil -m cp -r ./$exp/YOLOv5_UAVDT_det/ gs://cfdy/Experimentos/$exp/\n",
    "date"
   ]
  }
 ],
 "metadata": {
  "kernelspec": {
   "display_name": "Python 3",
   "language": "python",
   "name": "python3"
  },
  "language_info": {
   "codemirror_mode": {
    "name": "ipython",
    "version": 3
   },
   "file_extension": ".py",
   "mimetype": "text/x-python",
   "name": "python",
   "nbconvert_exporter": "python",
   "pygments_lexer": "ipython3",
   "version": "3.9.0"
  }
 },
 "nbformat": 4,
 "nbformat_minor": 5
}
