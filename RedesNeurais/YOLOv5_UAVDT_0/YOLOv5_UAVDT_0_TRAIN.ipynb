{
 "cells": [
  {
   "cell_type": "markdown",
   "metadata": {},
   "source": [
    "# YoloV5 Training at CPU Example\n",
    "\n",
    "Inferência no conjunto de treino ou teste do UAVDT dataset utilizando pesos pré-treinados no COCO Dataset.\n",
    "\n",
    "Autor: Yuri Gonçalves Ribeiro\n",
    "\n",
    "Data: 15 de Agosto de 2020\n",
    "\n",
    "Dataset Utilizado: UAV Dataset\n",
    "\n",
    "Referências:\n",
    "\n",
    "https://github.com/ultralytics/yolov5/wiki/Train-Custom-Data\n",
    "\n",
    "https://towardsdatascience.com/how-to-train-a-custom-object-detection-model-with-yolo-v5-917e9ce13208\n",
    "\n",
    "https://colab.research.google.com/github/ultralytics/yolov5/blob/master/tutorial.ipynb\n",
    "\n",
    "**É necessário que se ative o environment correto para esse notebook funcionar.**\n",
    "\n",
    "Exemplo 1:\n",
    "```bash\n",
    "conda activate yv5\n",
    "jupyter notebook\n",
    "```\n",
    "\n",
    "Exemplo 2:\n",
    "```bash\n",
    "conda activate yv5; experimento=\"YOLOv5_UAVDT_1_TRAIN\"; outputFileName=$(date \"+\"$experimento\"_ipynb_%d_%B_%Y_%Hh_%Mm_%Ss\"); echo \"Salvando log de execução em: $outputFileName.txt\"; nohup jupyter nbconvert --to notebook --execute --allow-errors --output \"./logs/$outputFileName\" --ExecutePreprocessor.timeout=-1 --Application.log_level=10 $experimento.ipynb &> \"./logs/$outputFileName.txt\" &\n",
    "```"
   ]
  },
  {
   "cell_type": "markdown",
   "metadata": {},
   "source": [
    "# Etiqueta do Experimento (Yolov5 Commit Hash, Conda Env, Informações da Máquina)"
   ]
  },
  {
   "cell_type": "markdown",
   "metadata": {},
   "source": [
    "###### Commit Hash da Rede YoloV5 utilizada neste experimento e pacotes instalados no conda environment"
   ]
  },
  {
   "cell_type": "code",
   "execution_count": null,
   "metadata": {
    "tags": []
   },
   "outputs": [],
   "source": [
    "%%script bash\n",
    "echo \"Hash key do commit YoloV5 que esta em uso:\"\n",
    "cd ../../Submodules/yolov5\n",
    "echo $( git rev-parse --verify HEAD)\n",
    "echo\n",
    "echo \"Verificar localizacao do python sendo executado:\"\n",
    "which python\n",
    "echo\n",
    "echo \"Conda Environment Utilizado: \"\n",
    "conda env export"
   ]
  },
  {
   "cell_type": "markdown",
   "metadata": {},
   "source": [
    "###### Especificações do Computador e do Experimento"
   ]
  },
  {
   "cell_type": "code",
   "execution_count": null,
   "metadata": {
    "scrolled": true
   },
   "outputs": [],
   "source": [
    "# Especificações do computador, para saber onde estou rodando o código...\n",
    "import datetime\n",
    "from platform import uname\n",
    "from os import environ\n",
    "\n",
    "start_time = datetime.datetime.now()\n",
    "time_stamp = start_time.strftime(\"%d_%B_%Y_%Hh_%Mm_%Ss\")\n",
    "\n",
    "username = environ['USER']\n",
    "sysinfo = uname()\n",
    "hostname = sysinfo.node\n",
    "\n",
    "root = \"~/Desktop/Mestrado/Codigos_Dissertacao/RedesNeurais/YOLOv5_UAVDT_1\"\n",
    "\n",
    "dropbox_dir = \"~/Dropbox\"\n",
    "\n",
    "experimento = \"YOLOv5_UAVDT_1\"\n",
    "\n",
    "output_dir = \"%s/YoloV5_Runs/Experimentos/%s_%s\"%(dropbox_dir,experimento,time_stamp)\n",
    "\n",
    "\n",
    "# Checar conda environment\n",
    "conda_env = !printenv CONDA_PROMPT_MODIFIER\n",
    "if conda_env != ['(yv5) ']:\n",
    "    raise SystemExit(\"ERRO.. Conda environment incorreto.\")"
   ]
  },
  {
   "cell_type": "code",
   "execution_count": null,
   "metadata": {
    "tags": []
   },
   "outputs": [],
   "source": [
    "print(\"\"\"\n",
    "==Computer Specifications==\n",
    "username: {username}\n",
    "\n",
    "hostname: {hostname}\n",
    "\n",
    "system info: {sysinfo}\n",
    "\n",
    "{{root}}: {root}\n",
    "\n",
    "dropbox dir: {dropbox_dir}\n",
    "\n",
    "experimento: {experimento}\n",
    "\n",
    "time stamp: {time_stamp}\n",
    "\n",
    "output dir: {output_dir}\n",
    "===========================\n",
    "\"\"\".format(username = username, hostname = hostname, sysinfo = sysinfo,\n",
    "           conda_env = conda_env, root = root, dropbox_dir = dropbox_dir,\n",
    "           time_stamp = time_stamp, experimento = experimento, output_dir = output_dir))"
   ]
  },
  {
   "cell_type": "code",
   "execution_count": null,
   "metadata": {},
   "outputs": [],
   "source": [
    "!nvidia-smi"
   ]
  },
  {
   "cell_type": "markdown",
   "metadata": {},
   "source": [
    "# Clonar o Repositório YOLOv5"
   ]
  },
  {
   "cell_type": "code",
   "execution_count": null,
   "metadata": {
    "tags": []
   },
   "outputs": [],
   "source": [
    "#Ir para a raiz\n",
    "%cd {root}\n",
    "!echo\n",
    "#Criar pasta de logs e runs\n",
    "!mkdir logs runs\n",
    "!echo\n",
    "#Remover diretórios antigos do yolov5\n",
    "!rm -rfv yolov5\n",
    "!echo\n",
    "#Copiar diretório novo da pasta submodules\n",
    "!cp -av ../../Submodules/yolov5/ yolov5/\n",
    "!echo\n",
    "!ls"
   ]
  },
  {
   "cell_type": "markdown",
   "metadata": {},
   "source": [
    "## Entrar na pasta yolov5 e instalar os requirements.txt"
   ]
  },
  {
   "cell_type": "code",
   "execution_count": null,
   "metadata": {
    "tags": []
   },
   "outputs": [],
   "source": [
    "%cd {root}/yolov5/\n",
    "%pip install -U -r requirements.txt"
   ]
  },
  {
   "cell_type": "markdown",
   "metadata": {},
   "source": [
    "# Executar Script para Transformar Imagens do UAVDT Dataset para o formato requerido pelo YOLOv5"
   ]
  },
  {
   "cell_type": "code",
   "execution_count": null,
   "metadata": {
    "tags": []
   },
   "outputs": [],
   "source": [
    "# Ir para a raiz\n",
    "%cd {root}"
   ]
  },
  {
   "cell_type": "code",
   "execution_count": null,
   "metadata": {
    "tags": [
     "outputPrepend"
    ]
   },
   "outputs": [],
   "source": [
    "%%script bash\n",
    "# Apagar os links existentes para o dataset\n",
    "rm -rfv UAVDT_YOLOv5\n",
    "# Criar novos hard links para o dataset e organizer o dataset no formato exigido pelo yolov5\n",
    "mkdir UAVDT_YOLOv5\n",
    "# Executar o script para converter UAVDT para o formato YOLOv5:\n",
    "cd ../../misc\n",
    "\n",
    "python uavdt_to_yolov5.py --conjunto treinoEteste --dest ../RedesNeurais/YOLOv5_UAVDT_1/UAVDT_YOLOv5\n",
    "#python uavdt_to_yolov5.py --videos M0101 M0203 --dest ../RedesNeurais/YOLOv5_UAVDT_0/UAVDT_YOLOv5\n",
    "\n",
    "cd ../RedesNeurais/YOLOv5_UAVDT_1/"
   ]
  },
  {
   "cell_type": "markdown",
   "metadata": {},
   "source": [
    "# Criar um data.yaml conforme exigido pelo yolov5\n"
   ]
  },
  {
   "cell_type": "code",
   "execution_count": null,
   "metadata": {
    "tags": []
   },
   "outputs": [],
   "source": [
    "# O conteúdo original não está adequado... mais fácil que editar: removerei-o e criarei um novo.\n",
    "\n",
    "datayaml = \"\"\"# train and val datasets (image directory or *.txt file with image paths)\n",
    "\n",
    "train: ../UAVDT_YOLOv5/train/images/\n",
    "val: ../UAVDT_YOLOv5/test/images/\n",
    "\n",
    "# number of classes\n",
    "nc: 3\n",
    "\n",
    "# class names\n",
    "names: ['car', 'truck', 'bus']\n",
    "\"\"\"\n",
    "\n",
    "%rm data.yaml\n",
    "with open('data.yaml', 'w') as file:\n",
    "    file.write(datayaml)\n",
    "%cat data.yaml"
   ]
  },
  {
   "cell_type": "markdown",
   "metadata": {},
   "source": [
    "# Executar Treinamento por 100 Eṕocas"
   ]
  },
  {
   "cell_type": "code",
   "execution_count": null,
   "metadata": {
    "tags": []
   },
   "outputs": [],
   "source": [
    "%cd {root}/yolov5\n",
    "\n",
    "!python train.py --epochs 300 --cfg ./models/yolov5l.yaml --weights ../../../Weights/YoloV5/yolov5l.pt  --data ../data.yaml --img 640 --batch-size 16 --device 1 --logdir ../runs --workers 4"
   ]
  },
  {
   "cell_type": "markdown",
   "metadata": {},
   "source": [
    "# Salvar Resultados no Dropbox\n",
    "Nesta etapa, salvarei os arquivos importantes no dropbox."
   ]
  },
  {
   "cell_type": "code",
   "execution_count": null,
   "metadata": {
    "tags": []
   },
   "outputs": [],
   "source": [
    "%cd {root}\n",
    "%mkdir -p {output_dir}\n",
    "%cp -av logs/ {output_dir}\n",
    "%cp -av runs/ {output_dir}"
   ]
  },
  {
   "cell_type": "markdown",
   "metadata": {},
   "source": [
    "# Finalização"
   ]
  },
  {
   "cell_type": "code",
   "execution_count": null,
   "metadata": {
    "tags": []
   },
   "outputs": [],
   "source": [
    "finish_time = datetime.datetime.now()\n",
    "delta_time = finish_time - start_time\n",
    "print(\"\"\"\n",
    "Start: {start}\n",
    "\n",
    "Finish: {finish}\n",
    "\n",
    "Duration (hour:min:sec.microsec):  {delta}\n",
    "\"\"\".format(start = start_time, finish = finish_time, delta = delta_time))"
   ]
  },
  {
   "cell_type": "code",
   "execution_count": null,
   "metadata": {},
   "outputs": [],
   "source": []
  }
 ],
 "metadata": {
  "kernelspec": {
   "display_name": "Python 3",
   "language": "python",
   "name": "python3"
  },
  "language_info": {
   "codemirror_mode": {
    "name": "ipython",
    "version": 3
   },
   "file_extension": ".py",
   "mimetype": "text/x-python",
   "name": "python",
   "nbconvert_exporter": "python",
   "pygments_lexer": "ipython3",
   "version": "3.8.5"
  }
 },
 "nbformat": 4,
 "nbformat_minor": 4
}
