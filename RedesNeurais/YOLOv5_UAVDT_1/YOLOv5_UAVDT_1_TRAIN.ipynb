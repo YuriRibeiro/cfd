{
 "cells": [
  {
   "cell_type": "markdown",
   "metadata": {},
   "source": [
    "# YoloV5 Training at GPU -- Applying Gaussian Filter at Ignored Areas\n",
    "\n",
    "Treinamento de uma rede YOLOv5-L nos dados do UAVDT Dataset. As imagens com zona de \"ignore\" são tratadas; nesses boxes, é aplicado um filtro gaussiano para \"borrar\" a imagem de forma a não deixar nenhum contorno aparente.\n",
    "\n",
    "Autor: Yuri Gonçalves Ribeiro\n",
    "\n",
    "Data: 08 de Outubro de 2020\n",
    "\n",
    "Exemplo de Execução:\n",
    "\n",
    "```bash\n",
    "conda activate yv5; experimento=\"YOLOv5_UAVDT_1_TRAIN\"; outputFileName=$(date \"+\"$experimento\"_ipynb_%d_%B_%Y_%Hh_%Mm_%Ss\"); echo \"Salvando log de execucao em: $outputFileName.txt\"; nohup jupyter nbconvert --to notebook --execute --allow-errors --output \"./logs/$outputFileName\" --ExecutePreprocessor.timeout=-1 --Application.log_level=10 $experimento.ipynb &> \"./logs/$outputFileName.txt\" &\n",
    "```\n",
    "\n",
    "Os resultados são salvos na pasta do Dropbox especificada abaixo."
   ]
  },
  {
   "cell_type": "markdown",
   "metadata": {},
   "source": [
    "# Etiqueta do Experimento (Yolov5 Commit Hash, Conda Env, Informações da Máquina)"
   ]
  },
  {
   "cell_type": "markdown",
   "metadata": {},
   "source": [
    "## Commit Hash da Rede YoloV5 utilizada neste experimento e pacotes instalados no conda environment"
   ]
  },
  {
   "cell_type": "code",
   "execution_count": null,
   "metadata": {},
   "outputs": [],
   "source": [
    "%%script bash\n",
    "echo \"Hash key do commit YoloV5 que esta em uso:\"\n",
    "cd ../../Submodules/yolov5\n",
    "echo $( git rev-parse --verify HEAD)\n",
    "echo\n",
    "echo \"Verificar localizacao do python sendo executado:\"\n",
    "which python\n",
    "echo\n",
    "echo \"Conda Environment Utilizado: \"\n",
    "conda env export"
   ]
  },
  {
   "cell_type": "markdown",
   "metadata": {},
   "source": [
    "## Especificações do Computador e do Experimento"
   ]
  },
  {
   "cell_type": "code",
   "execution_count": null,
   "metadata": {},
   "outputs": [],
   "source": [
    "# Especificações do computador, para saber onde estou rodando o código...\n",
    "import datetime\n",
    "from platform import uname\n",
    "from os import environ\n",
    "from glob import glob\n",
    "import cv2\n",
    "\n",
    "start_time = datetime.datetime.now()\n",
    "time_stamp = start_time.strftime(\"%d_%B_%Y_%Hh_%Mm_%Ss\")\n",
    "\n",
    "username = environ['USER']\n",
    "sysinfo = uname()\n",
    "hostname = sysinfo.node\n",
    "\n",
    "root = \"~/Desktop/Mestrado/Codigos_Dissertacao/RedesNeurais/YOLOv5_UAVDT_1\"\n",
    "\n",
    "dropbox_dir = \"~/Dropbox\"\n",
    "\n",
    "experimento = \"YOLOv5_UAVDT_1\"\n",
    "\n",
    "output_dir = \"%s/YoloV5_Runs/Experimentos/%s_%s\"%(dropbox_dir,experimento,time_stamp)\n",
    "\n",
    "\n",
    "# Checar conda environment\n",
    "conda_env = !printenv CONDA_PROMPT_MODIFIER\n",
    "if conda_env != ['(yv5) ']:\n",
    "    raise SystemExit(\"ERRO.. Conda environment incorreto.\")"
   ]
  },
  {
   "cell_type": "code",
   "execution_count": null,
   "metadata": {},
   "outputs": [],
   "source": [
    "print(\"\"\"\n",
    "==Computer Specifications==\n",
    "username: {username}\n",
    "\n",
    "hostname: {hostname}\n",
    "\n",
    "system info: {sysinfo}\n",
    "\n",
    "{{root}}: {root}\n",
    "\n",
    "dropbox dir: {dropbox_dir}\n",
    "\n",
    "experimento: {experimento}\n",
    "\n",
    "time stamp: {time_stamp}\n",
    "\n",
    "output dir: {output_dir}\n",
    "===========================\n",
    "\"\"\".format(username = username, hostname = hostname, sysinfo = sysinfo,\n",
    "           conda_env = conda_env, root = root, dropbox_dir = dropbox_dir,\n",
    "           time_stamp = time_stamp, experimento = experimento, output_dir = output_dir))"
   ]
  },
  {
   "cell_type": "code",
   "execution_count": null,
   "metadata": {},
   "outputs": [],
   "source": [
    "!nvidia-smi"
   ]
  },
  {
   "cell_type": "markdown",
   "metadata": {},
   "source": [
    "# Clonar o Repositório YOLOv5 e instalar os requirements.txt"
   ]
  },
  {
   "cell_type": "code",
   "execution_count": null,
   "metadata": {},
   "outputs": [],
   "source": [
    "#Ir para a raiz\n",
    "%cd {root}\n",
    "!echo\n",
    "# Remover diretórios antigos\n",
    "!rm -rf runs yolov5\n",
    "#Criar pasta de runs\n",
    "!mkdir runs\n",
    "!echo\n",
    "#Copiar diretório novo da pasta submodules\n",
    "!cp -av ../../Submodules/yolov5/ yolov5/\n",
    "!echo\n",
    "!ls\n",
    "#Entrar na pasta yolov5 e instalar os requirements.txt\n",
    "%cd {root}/yolov5/\n",
    "%pip install -U -r requirements.txt"
   ]
  },
  {
   "cell_type": "markdown",
   "metadata": {},
   "source": [
    "# Executar Script para Transformar Imagens do UAVDT Dataset para o formato requerido pelo YOLOv5"
   ]
  },
  {
   "cell_type": "code",
   "execution_count": null,
   "metadata": {},
   "outputs": [],
   "source": [
    "# Ir para a raiz\n",
    "%cd {root}"
   ]
  },
  {
   "cell_type": "code",
   "execution_count": null,
   "metadata": {},
   "outputs": [],
   "source": [
    "%%script bash\n",
    "# Apagar os links existentes para o dataset\n",
    "rm -rfv UAVDT_YOLOv5\n",
    "# Criar novos hard links para o dataset e organizer o dataset no formato exigido pelo yolov5\n",
    "mkdir UAVDT_YOLOv5\n",
    "# Executar o script para converter UAVDT para o formato YOLOv5:\n",
    "cd ../../misc\n",
    "\n",
    "python uavdt_to_yolov5.py --conjunto treinoEteste --dest ../RedesNeurais/YOLOv5_UAVDT_1/UAVDT_YOLOv5 --nosymlink\n",
    "\n",
    "cd ../RedesNeurais/YOLOv5_UAVDT_1/"
   ]
  },
  {
   "cell_type": "markdown",
   "metadata": {},
   "source": [
    "# Preprocessar as imagens\n",
    "## Salvá-las temporariamente (enquanto estiver treinando a rede). Após o término do treinamento, deve-se apagar as imagens objetivando economizar espaço em disco."
   ]
  },
  {
   "cell_type": "code",
   "execution_count": null,
   "metadata": {
    "tags": []
   },
   "outputs": [],
   "source": [
    "movies_treino = [\"M0101\", \"M0201\", \"M0202\", \"M0204\", \\\n",
    "    \"M0206\", \"M0207\", \"M0210\", \"M0301\", \"M0401\", \"M0402\", \\\n",
    "    \"M0501\", \"M0603\",\"M0604\", \"M0605\", \"M0702\", \"M0703\", \\\n",
    "    \"M0704\", \"M0901\", \"M0902\", \"M1002\", \"M1003\", \"M1005\", \\\n",
    "    \"M1006\", \"M1008\", \"M1102\", \"M1201\", \"M1202\", \"M1304\", \\\n",
    "    \"M1305\", \"M1306\"]\n",
    "\n",
    "for movie_name in movies_treino:\n",
    "    print(f\"[INFO] Analisando a sequência de imagens {movie_name}.\")\n",
    "\n",
    "    frame_boxes = {}\n",
    "    with open(f\"../../Datasets/UAVDT/UAV-benchmark-MOTD_v1.0/GT/{movie_name}_gt_ignore.txt\") as igfile:\n",
    "        lines = igfile.readlines()\n",
    "        for line in lines:\n",
    "            line = line.split(\",\")\n",
    "            frame = int(line[0])\n",
    "            x = int(line[2])\n",
    "            y = int(line[3])\n",
    "            w = int(line[4])\n",
    "            h = int(line[5])\n",
    "            classe = int(line[-1])\n",
    "            if frame in frame_boxes:\n",
    "                frame_boxes[frame] += [[frame, x, y, w, h, classe]]\n",
    "            else:\n",
    "                frame_boxes[frame] = [[frame, x, y, w, h, classe]]\n",
    "\n",
    "    # Para cada vídeo, ajustar as imagens do UAVDT Local com os devidos blurs..\n",
    "    for frame, boxes in frame_boxes.items():\n",
    "        img_path = f\"./UAVDT_YOLOv5/train/images/{movie_name}_img{frame:06}.jpg\"\n",
    "        img = cv2.imread(img_path)\n",
    "        for _,x,y,w,h,_ in boxes:\n",
    "            # Kernel Sized\n",
    "            kw = w//2\n",
    "            kh = h//2\n",
    "            if kw % 2 == 0: kw -= 1\n",
    "            if kh % 2 == 0: kh -= 1\n",
    "            # Gaussian Blur\n",
    "            roi = img[y:y+h, x:x+w]\n",
    "            roi_blur = cv2.GaussianBlur(roi, (kw, kh), 20, 20, cv2.BORDER_REPLICATE)\n",
    "            img[y:y+h, x:x+w] = roi_blur\n",
    "        \n",
    "        cv2.imwrite(img_path, img)\n",
    "\n",
    "\"\"\"\n",
    "# Checar efeitos do Gaussian Blur em uma \"ignore area\" de uma imagem qualquer do dataset.\n",
    "\n",
    "img = cv2.imread(\"../../Datasets/UAVDT/UAV-benchmark-M/M0101/img000001.jpg\")\n",
    "# Boxes da imagem 000001.jpg do filme M0101; [frame, x, y, w, h, classe]\n",
    "frame1_boxes_img000001_M0101 = [[1, 914, 189, 105, 54, -1],  [1, 956, 480, 64, 58, -1],  [1, 788, 291, 121, 113, -1]]\n",
    "\n",
    "for _,x,y,w,h,_ in frame1_boxes_img000001_M0101:\n",
    "    # Kernel Sized\n",
    "    kw = w//2\n",
    "    kh = h//2\n",
    "    if kw % 2 == 0: kw -= 1\n",
    "    if kh % 2 == 0: kh -= 1\n",
    "    # 2xGaussian Blur\n",
    "    roi = img[y:y+h, x:x+w]\n",
    "    roi_blur = cv2.GaussianBlur(roi, (kw, kh), 20, 20, cv2.BORDER_REPLICATE)\n",
    "    img[y:y+h, x:x+w] = roi_blur\n",
    "\n",
    "cv2.imshow(\"Teste\", img)\n",
    "cv2.waitKey(0)\n",
    "cv2.destroyAllWindows()\n",
    "\"\"\"\n",
    "pass"
   ]
  },
  {
   "cell_type": "markdown",
   "metadata": {},
   "source": [
    "# Criar o arquivo data.yaml"
   ]
  },
  {
   "cell_type": "code",
   "execution_count": null,
   "metadata": {},
   "outputs": [],
   "source": [
    "# O conteúdo original não está adequado... mais fácil que editar: removerei-o e criarei um novo.\n",
    "%cd {root}\n",
    "\n",
    "datayaml = \"\"\"# train and val datasets (image directory or *.txt file with image paths)\n",
    "\n",
    "train: ../UAVDT_YOLOv5/train/images/\n",
    "val: ../UAVDT_YOLOv5/test/images/\n",
    "\n",
    "# number of classes\n",
    "nc: 3\n",
    "\n",
    "# class names\n",
    "names: ['car', 'truck', 'bus']\n",
    "\"\"\"\n",
    "\n",
    "%rm data.yaml\n",
    "with open('data.yaml', 'w') as file:\n",
    "    file.write(datayaml)\n",
    "%cat data.yaml"
   ]
  },
  {
   "cell_type": "markdown",
   "metadata": {},
   "source": [
    "# Iniciar o Treinamento por 300 eṕocas\n"
   ]
  },
  {
   "cell_type": "code",
   "execution_count": null,
   "metadata": {},
   "outputs": [],
   "source": [
    "%cd {root}/yolov5\n",
    "epocas = 300\n",
    "\n",
    "!python train.py --epochs {epocas} --cfg ./models/yolov5l.yaml --weights ../../../Weights/YoloV5/yolov5l.pt  --data ../data.yaml --img 640 --batch-size 16 --device 1 --logdir ../runs --workers 4\n"
   ]
  },
  {
   "cell_type": "markdown",
   "metadata": {},
   "source": [
    "# Guardar os Resultados na Nuvem (Dropbox)"
   ]
  },
  {
   "cell_type": "code",
   "execution_count": null,
   "metadata": {},
   "outputs": [],
   "source": [
    "%cd {root}\n",
    "%mkdir -p {output_dir}\n",
    "%cp -av logs/ {output_dir}\n",
    "%cp -av runs/ {output_dir}"
   ]
  },
  {
   "cell_type": "markdown",
   "metadata": {},
   "source": [
    "# Finalização"
   ]
  },
  {
   "cell_type": "code",
   "execution_count": null,
   "metadata": {},
   "outputs": [],
   "source": [
    "finish_time = datetime.datetime.now()\n",
    "delta_time = finish_time - start_time\n",
    "print(\"\"\"\n",
    "Start: {start}\n",
    "\n",
    "Finish: {finish}\n",
    "\n",
    "Duration (hour:min:sec.microsec):  {delta}\n",
    "\"\"\".format(start = start_time, finish = finish_time, delta = delta_time))"
   ]
  },
  {
   "cell_type": "code",
   "execution_count": null,
   "metadata": {},
   "outputs": [],
   "source": [
    "# Manualmente, remover os logs e diretórios com imagens desnecessários."
   ]
  }
 ],
 "metadata": {
  "kernelspec": {
   "display_name": "Python 3",
   "language": "python",
   "name": "python3"
  },
  "language_info": {
   "codemirror_mode": {
    "name": "ipython",
    "version": 3
   },
   "file_extension": ".py",
   "mimetype": "text/x-python",
   "name": "python",
   "nbconvert_exporter": "python",
   "pygments_lexer": "ipython3",
   "version": "3.8.5"
  }
 },
 "nbformat": 4,
 "nbformat_minor": 4
}
