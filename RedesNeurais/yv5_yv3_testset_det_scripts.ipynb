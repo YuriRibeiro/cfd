{
 "cells": [
  {
   "cell_type": "markdown",
   "id": "forbidden-breach",
   "metadata": {},
   "source": [
    "# Scripts para executar a detecção no conjunto de dados.\n",
    "\n",
    "Rede: YOLOv5.\n",
    "\n",
    "Experimentos: YOLOv5_UAVDT_0 ... YOLOv5_UAVDT_7 + YOLOv5_UAVDT_301 + YOLOv5_UAVDT_302"
   ]
  },
  {
   "cell_type": "markdown",
   "id": "modular-benefit",
   "metadata": {},
   "source": [
    "```bash\n",
    "conda activate yv5r4; mkdir logs; experimento=\"yv5_yv3_testset_det_scripts\"; outputFileName=$(date \"+\"$experimento\"_ipynb_%d_%B_%Y_%Hh_%Mm_%Ss\"); echo \"Salvando log de execucao em: $outputFileName.txt\"; nohup jupyter nbconvert --to notebook --execute --allow-errors --output \"./logs/$outputFileName\" --ExecutePreprocessor.timeout=-1 --Application.log_level=10 $experimento.ipynb &> \"./logs/$outputFileName.txt\" &\n",
    "```"
   ]
  },
  {
   "cell_type": "code",
   "execution_count": null,
   "id": "statistical-lending",
   "metadata": {},
   "outputs": [],
   "source": [
    "!date\n",
    "!pwd\n",
    "!printenv | grep conda\n",
    "!nvidia-smi"
   ]
  },
  {
   "cell_type": "code",
   "execution_count": null,
   "id": "enclosed-problem",
   "metadata": {},
   "outputs": [],
   "source": [
    "%%script bash\n",
    "date\n",
    "exp=\"YOLOv5_UAVDT_12\"\n",
    "pwd\n",
    "python exec_detection_test.py $exp --device 1\n",
    "gsutil -m cp -r ./$exp/YOLOv5_UAVDT_det/ gs://cfdy/Experimentos/$exp/\n",
    "date"
   ]
  },
  {
   "cell_type": "code",
   "execution_count": null,
   "id": "trying-development",
   "metadata": {},
   "outputs": [],
   "source": [
    "%%script bash\n",
    "date\n",
    "exp=\"YOLOv5_UAVDT_13\"\n",
    "pwd\n",
    "python exec_detection_test.py $exp --device 1\n",
    "gsutil -m cp -r ./$exp/YOLOv5_UAVDT_det/ gs://cfdy/Experimentos/$exp/\n",
    "date"
   ]
  },
  {
   "cell_type": "code",
   "execution_count": null,
   "id": "developed-glasgow",
   "metadata": {},
   "outputs": [],
   "source": [
    "%%script bash\n",
    "date\n",
    "exp=\"YOLOv5_UAVDT_14\"\n",
    "pwd\n",
    "python exec_detection_test.py $exp --device 1\n",
    "gsutil -m cp -r ./$exp/YOLOv5_UAVDT_det/ gs://cfdy/Experimentos/$exp/\n",
    "date"
   ]
  },
  {
   "cell_type": "code",
   "execution_count": null,
   "id": "thermal-automation",
   "metadata": {},
   "outputs": [],
   "source": [
    "%%script bash\n",
    "date\n",
    "exp=\"YOLOv5_UAVDT_15\"\n",
    "pwd\n",
    "python exec_detection_test.py $exp --device 1\n",
    "gsutil -m cp -r ./$exp/YOLOv5_UAVDT_det/ gs://cfdy/Experimentos/$exp/\n",
    "date"
   ]
  },
  {
   "cell_type": "code",
   "execution_count": null,
   "metadata": {},
   "outputs": [],
   "source": [
    "%%script bash\n",
    "date\n",
    "exp=\"YOLOv3_UAVDT_9\"\n",
    "pwd\n",
    "python exec_detection_test.py $exp --device 1\n",
    "gsutil -m cp -r ./$exp/YOLOv3_UAVDT_det/ gs://cfdy/Experimentos/$exp/\n",
    "date"
   ]
  },
  {
   "cell_type": "code",
   "execution_count": null,
   "metadata": {},
   "outputs": [],
   "source": [
    "%%script bash\n",
    "date\n",
    "exp=\"YOLOv3_UAVDT_10\"\n",
    "pwd\n",
    "python exec_detection_test.py $exp --device 1\n",
    "gsutil -m cp -r ./$exp/YOLOv3_UAVDT_det/ gs://cfdy/Experimentos/$exp/\n",
    "date"
   ]
  },
  {
   "cell_type": "code",
   "execution_count": null,
   "metadata": {},
   "outputs": [],
   "source": [
    "%%script bash\n",
    "date\n",
    "exp=\"YOLOv3_UAVDT_11\"\n",
    "pwd\n",
    "python exec_detection_test.py $exp --device 1\n",
    "gsutil -m cp -r ./$exp/YOLOv3_UAVDT_det/ gs://cfdy/Experimentos/$exp/\n",
    "date"
   ]
  }
 ],
 "metadata": {
  "kernelspec": {
   "display_name": "Python 3",
   "language": "python",
   "name": "python3"
  },
  "language_info": {
   "codemirror_mode": {
    "name": "ipython",
    "version": 3
   },
   "file_extension": ".py",
   "mimetype": "text/x-python",
   "name": "python",
   "nbconvert_exporter": "python",
   "pygments_lexer": "ipython3",
   "version": "3.9.0"
  }
 },
 "nbformat": 4,
 "nbformat_minor": 5
}