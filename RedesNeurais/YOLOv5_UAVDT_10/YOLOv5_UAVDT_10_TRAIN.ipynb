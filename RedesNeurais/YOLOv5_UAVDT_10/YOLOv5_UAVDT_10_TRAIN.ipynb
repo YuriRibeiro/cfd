{
 "cells": [
  {
   "cell_type": "markdown",
   "metadata": {},
   "source": [
    "<hr>\n",
    "\n",
    "# EXPERIMENTO YOLOv5_UAVDT_10"
   ]
  },
  {
   "cell_type": "markdown",
   "metadata": {},
   "source": [
    "<hr>"
   ]
  },
  {
   "cell_type": "markdown",
   "metadata": {},
   "source": [
    "# Especificações do environment e máquina"
   ]
  },
  {
   "cell_type": "code",
   "execution_count": null,
   "metadata": {
    "tags": []
   },
   "outputs": [],
   "source": [
    "%%script bash\n",
    "echo \"Hash key do commit YoloV5 que esta em uso:\"\n",
    "cd ../../Submodules/yolov5\n",
    "echo $( git rev-parse --verify HEAD)\n",
    "echo\n",
    "echo \"Verificar localizacao do python sendo executado:\"\n",
    "which python\n",
    "echo\n",
    "echo \"Conda Environment Utilizado: \"\n",
    "conda env export"
   ]
  },
  {
   "cell_type": "code",
   "execution_count": null,
   "metadata": {
    "scrolled": true
   },
   "outputs": [],
   "source": [
    "# ESPECIFICAÇÕES DA MÁQIUINA E DO EXPERIMENTO\n",
    "import datetime\n",
    "start_time = datetime.datetime.now()\n",
    "from platform import uname\n",
    "from os import environ, getcwd, sep\n",
    "from glob import glob\n",
    "import matplotlib.pyplot as plt\n",
    "from PIL import Image\n",
    "import numpy as np\n",
    "\n",
    "time_stamp = start_time.strftime(\"%d_%b_%Y_%Hh_%Mm\")\n",
    "time_zone = datetime.datetime.now(datetime.timezone.utc).astimezone().tzname()\n",
    "print(\"Horário: \", datetime.datetime.now(), \"UTC\", time_zone )\n",
    "username = environ['USER']\n",
    "sysinfo = uname()\n",
    "hostname = sysinfo.node\n",
    "root = getcwd()\n",
    "\n",
    "experimento = root.split(sep)[-1].split(\"_\")[:-1]\n",
    "experimento = \"_\".join(experimento)\n",
    "exp_number = root.split(sep)[-1].split(\"_\")[-1]\n",
    "\n",
    "# DADOS DE OUTPUT\n",
    "exp_folder = f\"{experimento}_{exp_number}-{time_stamp}\"\n",
    "output_dir_dropbox = f\"~/Dropbox/Experimentos/{experimento}_{exp_number}/{exp_folder}\"\n",
    "output_dir_gcloud = f\"gs://cfdy/Experimentos/{experimento}_{exp_number}/YOLOv5_UAVDT_train/{exp_folder}\"\n",
    "output_dir_log_txt = f\"gs://cfdy/Experimentos_logs_txt/{experimento}_{exp_number}/logs\"\n",
    "output_dir_log_ipynb = f\"gs://cfdy/Experimentos/{experimento}_{exp_number}/logs\"\n",
    "\n",
    "# DADOS DE TREINAMENTO:\n",
    "tr = {\n",
    "\"epocas\" : \"50\",\n",
    "\"model\" : \"yolov5l\",\n",
    "\"img_resolution\" : \"640 640\",\n",
    "\"batch_size\" : \"8\",\n",
    "\"gpu_ids\" : \"0\",\n",
    "\"logdir\" : \"../runs\",\n",
    "\"num_workers\" : \"4\",\n",
    "\"optimizer\" : \"--adam\", # Following paths are relative to yolov5_w.\n",
    "\"log_artifacts\" : \"--log-artifacts\", #Weight e Biases log\n",
    "\"project\" : f\"../{experimento}_train\", # Save training session info\n",
    "\"name\" : f\"{exp_folder}\"} # Save to \"../{project}/{name}\"\n",
    "tr[\"model_yaml\"] = f\"./models/{tr['model']}.yaml\" # relative to yolov5 folder\n",
    "tr[\"weights\"] = f\"../../YOLOv5_UAVDT_6/YOLOv5_UAVDT_train/\"+\\\n",
    "                 \"YOLOv5_UAVDT_6-26_Feb_2021_04h_25m/weights/best.pt\"\n",
    "tr[\"hyperparameters\"] = f\"../hyp.finetune.yaml\"\n",
    "\n",
    "output_dir_local = f\"{root}/{tr['project'][3:]}/{tr['name']}\"\n",
    "\n",
    "# Checar conda environment\n",
    "conda_env = !printenv CONDA_PROMPT_MODIFIER\n",
    "#if conda_env != ['(yv5r4) ']:\n",
    "#    raise SystemExit(\"ERRO.. Conda environment incorreto.\")\n",
    "\n",
    "print(f\"\"\"\n",
    "==Computer Specifications==\n",
    "username: {username}\n",
    "\n",
    "hostname: {hostname}\n",
    "\n",
    "system info: {sysinfo}\n",
    "\n",
    "{{root}}: {root}\n",
    "\n",
    "conda env: {conda_env}\n",
    "\n",
    "experimento: {experimento}\n",
    "\n",
    "time stamp: {time_stamp}\n",
    "\n",
    "time zone : UTC {time_zone}\n",
    "\n",
    "output dropbox dir: {output_dir_dropbox}\n",
    "\n",
    "output gcloud dir: {output_dir_gcloud}\n",
    "\n",
    "output local dir: {output_dir_local}\n",
    "\n",
    "Dados de treinamento: {tr}\n",
    "===========================\n",
    "\"\"\")"
   ]
  },
  {
   "cell_type": "code",
   "execution_count": null,
   "metadata": {},
   "outputs": [],
   "source": [
    "# Formatação do comando para execução via nbconvert:\n",
    "command = f\"\"\"conda activate yv5r4; mkdir logs; experimento=\"{experimento}_{exp_number}_TRAIN\"; outputFileName=$(date \"+\"$experimento\"_ipynb_%d_%B_%Y_%Hh_%Mm_%Ss\"); echo \"Salvando log de execucao em: $outputFileName.txt\"; nohup jupyter nbconvert --to notebook --execute --allow-errors --output \"./logs/$outputFileName\" --ExecutePreprocessor.timeout=-1 --Application.log_level=10 $experimento.ipynb &> \"./logs/$outputFileName.txt\" &\"\"\"\n",
    "\n",
    "!echo '{command}' > nbconvert_{experimento}_{exp_number}.sh"
   ]
  },
  {
   "cell_type": "code",
   "execution_count": null,
   "metadata": {
    "scrolled": true
   },
   "outputs": [],
   "source": [
    "# Verificar GPUs disponíveis\n",
    "!nvidia-smi"
   ]
  },
  {
   "cell_type": "markdown",
   "metadata": {},
   "source": [
    "<hr>\n",
    "\n",
    "# Clonar o Repositório de Trabalho YOLOv5_w"
   ]
  },
  {
   "cell_type": "code",
   "execution_count": null,
   "metadata": {
    "tags": []
   },
   "outputs": [],
   "source": [
    "#Ir para a raiz\n",
    "%cd {root}"
   ]
  },
  {
   "cell_type": "code",
   "execution_count": null,
   "metadata": {},
   "outputs": [],
   "source": [
    "%%script bash\n",
    "pwd\n",
    "#Criar pasta de logs e runs\n",
    "mkdir logs\n",
    "#Remover diretórios antigos do yolov5_w\n",
    "rm -rf yolov5_w\n",
    "#Copiar diretório novo da pasta submodules (Sem Links)\n",
    "cp -a ../../Submodules/yolov5_w/ yolov5_w/\n",
    "ls"
   ]
  },
  {
   "cell_type": "markdown",
   "metadata": {},
   "source": [
    "# Executar Script para Transformar Imagens do UAVDT Dataset para o formato requerido pelo YOLOv5"
   ]
  },
  {
   "cell_type": "code",
   "execution_count": null,
   "metadata": {
    "scrolled": true,
    "tags": []
   },
   "outputs": [],
   "source": [
    "# Apagar os links existentes para o dataset\n",
    "!rm -rf UAVDT_YOLOv5_Dataset\n",
    "# Criar novos hard links para o dataset e organizar o dataset no formato exigido pelo yolov5\n",
    "!mkdir UAVDT_YOLOv5_Dataset\n",
    "!python ../../utils/uavdt_to_yolov5.py --conjunto treinoEteste --dest ../{experimento}_{exp_number}/UAVDT_YOLOv5_Dataset --uavdt-path ../../Datasets/UAVDT --nosymlink"
   ]
  },
  {
   "cell_type": "markdown",
   "metadata": {},
   "source": [
    "# Pré-processar as imagens"
   ]
  },
  {
   "cell_type": "code",
   "execution_count": null,
   "metadata": {
    "scrolled": true
   },
   "outputs": [],
   "source": [
    "movies_treino = [\"M0101\", \"M0201\", \"M0202\", \"M0204\", \\\n",
    "    \"M0206\", \"M0207\", \"M0210\", \"M0301\", \"M0401\", \"M0402\", \\\n",
    "    \"M0501\", \"M0603\",\"M0604\", \"M0605\", \"M0702\", \"M0703\", \\\n",
    "    \"M0704\", \"M0901\", \"M0902\", \"M1002\", \"M1003\", \"M1005\", \\\n",
    "    \"M1006\", \"M1008\", \"M1102\", \"M1201\", \"M1202\", \"M1304\", \\\n",
    "    \"M1305\", \"M1306\"]\n",
    "\n",
    "movies_teste = [\"M0203\", \"M0205\", \"M0208\", \"M0209\", \"M0403\", \"M0601\", \\\n",
    "        \"M0602\", \"M0606\", \"M0701\", \"M0801\", \"M0802\", \"M1001\", \"M1004\", \\\n",
    "        \"M1007\", \"M1009\", \"M1101\", \"M1301\", \"M1302\", \"M1303\", \"M1401\"]\n",
    "\n",
    "movies = movies_treino + movies_teste\n",
    "    \n",
    "for movie_name in movies:\n",
    "    print(f\"[INFO] Analisando a sequência de imagens {movie_name}.\")\n",
    "\n",
    "    frame_boxes = {}\n",
    "    with open(f\"../../Datasets/UAVDT/UAV-benchmark-MOTD_v1.0/GT/{movie_name}_gt_ignore.txt\") as igfile:\n",
    "        lines = igfile.readlines()\n",
    "        for line in lines:\n",
    "            line = line.split(\",\")\n",
    "            frame = int(line[0])\n",
    "            x = int(line[2])\n",
    "            y = int(line[3])\n",
    "            w = int(line[4])\n",
    "            h = int(line[5])\n",
    "            classe = int(line[-1])\n",
    "            if frame in frame_boxes:\n",
    "                frame_boxes[frame] += [[frame, x, y, w, h, classe]]\n",
    "            else:\n",
    "                frame_boxes[frame] = [[frame, x, y, w, h, classe]]\n",
    "\n",
    "    # Para cada vídeo, ajustar as imagens do UAVDT Local com os devidos blurs..\n",
    "    conjunto = \"train\" if movie_name in movies_treino else \"test\"\n",
    "    \n",
    "    for frame, boxes in frame_boxes.items():\n",
    "        img_path = f\"./UAVDT_YOLOv5_Dataset/{conjunto}/images/{movie_name}_img{frame:06}.jpg\"\n",
    "        img = np.array(Image.open(img_path))#cv2.imread(img_path)\n",
    "        for _,x,y,w,h,_ in boxes:\n",
    "            img[y:y+h, x:x+w] = (0,0,0) #Black box\n",
    "        Image.fromarray(img).save(img_path)"
   ]
  },
  {
   "cell_type": "code",
   "execution_count": null,
   "metadata": {},
   "outputs": [],
   "source": [
    "# Checar efeitos do pré-processamento em uma \"ignore area\" de uma imagem qualquer do dataset.\n",
    "\n",
    "img_path = f\"./UAVDT_YOLOv5_Dataset/train/images/M0101_img000001.jpg\"\n",
    "img = Image.open(img_path)\n",
    "# summarize some details about the image\n",
    "print(img.format)\n",
    "print(img.size)\n",
    "print(img.mode)\n",
    "# plot image\n",
    "plt.figure(figsize=(14,10))\n",
    "plt.imshow(img)"
   ]
  },
  {
   "cell_type": "markdown",
   "metadata": {},
   "source": [
    "# Criar um data.yaml conforme exigido pelo yolov5\n"
   ]
  },
  {
   "cell_type": "code",
   "execution_count": null,
   "metadata": {
    "tags": []
   },
   "outputs": [],
   "source": [
    "# O conteúdo original não está adequado... mais fácil que editar: removerei-o e criarei um novo.\n",
    "\n",
    "datayaml = \"\"\"# train and val datasets (image directory or *.txt file with image paths)\n",
    "\n",
    "train: ../UAVDT_YOLOv5_Dataset/train/images/\n",
    "val: ../UAVDT_YOLOv5_Dataset/test/images/\n",
    "\n",
    "# number of classes\n",
    "nc: 3\n",
    "\n",
    "# class names\n",
    "names: ['car', 'truck', 'bus']\n",
    "\"\"\"\n",
    "\n",
    "%rm data.yaml\n",
    "with open('data.yaml', 'w') as file:\n",
    "    file.write(datayaml)\n",
    "%cat data.yaml"
   ]
  },
  {
   "cell_type": "markdown",
   "metadata": {},
   "source": [
    "# Executar Treinamento por 50 Eṕocas"
   ]
  },
  {
   "cell_type": "code",
   "execution_count": null,
   "metadata": {
    "scrolled": true,
    "tags": []
   },
   "outputs": [],
   "source": [
    "%cd {root}/yolov5_w\n",
    "start_training_time = datetime.datetime.now()\n",
    "\n",
    "!python train.py --epochs {tr[\"epocas\"]} --cfg {tr[\"model_yaml\"]} --weights {tr[\"weights\"]}  --data ../data.yaml --img {tr[\"img_resolution\"]} --batch-size {tr[\"batch_size\"]} --device {tr[\"gpu_ids\"]} --workers {tr[\"num_workers\"]} {tr[\"optimizer\"]} {tr[\"log_artifacts\"]} --project {tr[\"project\"]} --name {tr[\"name\"]} --hyp {tr[\"hyperparameters\"]}\n",
    "\n",
    "finish_training_time = datetime.datetime.now()"
   ]
  },
  {
   "cell_type": "markdown",
   "metadata": {},
   "source": [
    "# Salvar Resultados no Dropbox e no Google Cloud\n",
    "Nesta etapa, salvarei os arquivos importantes no dropbox."
   ]
  },
  {
   "cell_type": "code",
   "execution_count": null,
   "metadata": {
    "tags": []
   },
   "outputs": [],
   "source": [
    "%cd {root}\n",
    "print(\"COPY TO DROPBOX\")\n",
    "%mkdir -p {output_dir_dropbox}\n",
    "%cp -avl logs/ {output_dir_dropbox}\n",
    "%cp -avl {output_dir_local}/ {output_dir_dropbox}"
   ]
  },
  {
   "cell_type": "code",
   "execution_count": null,
   "metadata": {},
   "outputs": [],
   "source": [
    "print(\"COPY TO GCLOUD\")\n",
    "#logs/*.ipynb\n",
    "!gsutil -m cp -r logs/*.ipynb {output_dir_log_ipynb}\n",
    "#logs/*.txt\n",
    "!gsutil -m cp -r logs/*.txt {output_dir_log_txt}\n",
    "#train files\n",
    "!gsutil -m cp -r {output_dir_local}/ {output_dir_gcloud}"
   ]
  },
  {
   "cell_type": "markdown",
   "metadata": {},
   "source": [
    "# Finalização"
   ]
  },
  {
   "cell_type": "code",
   "execution_count": null,
   "metadata": {
    "tags": []
   },
   "outputs": [],
   "source": [
    "finish_time = datetime.datetime.now()\n",
    "delta_time = finish_time - start_time\n",
    "delta_time_train = finish_training_time - start_training_time\n",
    "print(f\"\"\"\n",
    "Notebook:\n",
    "Start: {start_time}\n",
    "Finish: {finish_time}\n",
    "Duration (hour:min:sec.microsec):  {delta_time}\n",
    "\n",
    "Train:\n",
    "Start: {start_training_time}\n",
    "Finish: {finish_training_time}\n",
    "Duration (hour:min:sec.microsec):  {delta_time_train}\"\"\")"
   ]
  },
  {
   "cell_type": "code",
   "execution_count": null,
   "metadata": {},
   "outputs": [],
   "source": [
    "print(\"Limpar arquivos desnecessários.\")\n",
    "%cd {root}\n",
    "%rm -rf UAVDT_YOLOv5_Dataset yolov5_w data.yaml"
   ]
  }
 ],
 "metadata": {
  "kernelspec": {
   "display_name": "Python 3",
   "language": "python",
   "name": "python3"
  },
  "language_info": {
   "codemirror_mode": {
    "name": "ipython",
    "version": 3
   },
   "file_extension": ".py",
   "mimetype": "text/x-python",
   "name": "python",
   "nbconvert_exporter": "python",
   "pygments_lexer": "ipython3",
   "version": "3.9.0-final"
  }
 },
 "nbformat": 4,
 "nbformat_minor": 4
}