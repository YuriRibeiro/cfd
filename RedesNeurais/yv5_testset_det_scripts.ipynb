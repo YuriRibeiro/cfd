{
 "cells": [
  {
   "source": [
    "# Scripts para executar a detecção no conjunto de dados.\n",
    "\n",
    "Rede: YOLOv5.\n",
    "\n",
    "Experimentos: YOLOv5_UAVDT_0 ... YOLOv5_UAVDT_7 + YOLOv5_UAVDT_301 + YOLOv5_UAVDT_302"
   ],
   "cell_type": "markdown",
   "metadata": {}
  },
  {
   "cell_type": "code",
   "execution_count": null,
   "metadata": {},
   "outputs": [],
   "source": [
    "!date\n",
    "!pwd\n",
    "!printenv | grep conda\n",
    "!nvidia-smi"
   ]
  },
  {
   "cell_type": "code",
   "execution_count": null,
   "id": "coated-responsibility",
   "metadata": {},
   "outputs": [],
   "source": [
    "%%script bash\n",
    "date\n",
    "exp=\"YOLOv5_UAVDT_0\"\n",
    "pwd\n",
    "python exec_detection_test.py $exp --device 1\n",
    "gsutil -m cp -r ./$exp/YOLOv5_UAVDT_det/ gs://cfdy/Experimentos/$exp/\n",
    "date"
   ]
  },
  {
   "cell_type": "code",
   "execution_count": null,
   "id": "still-platinum",
   "metadata": {},
   "outputs": [],
   "source": [
    "%%script bash\n",
    "date\n",
    "exp=\"YOLOv5_UAVDT_1\"\n",
    "pwd\n",
    "python exec_detection_test.py $exp --device 1\n",
    "gsutil -m cp -r ./$exp/YOLOv5_UAVDT_det/ gs://cfdy/Experimentos/$exp/\n",
    "date"
   ]
  },
  {
   "cell_type": "code",
   "execution_count": null,
   "metadata": {},
   "outputs": [],
   "source": [
    "%%script bash\n",
    "date\n",
    "exp=\"YOLOv5_UAVDT_2\"\n",
    "pwd\n",
    "python exec_detection_test.py $exp --device 1\n",
    "gsutil -m cp -r ./$exp/YOLOv5_UAVDT_det/ gs://cfdy/Experimentos/$exp/\n",
    "date"
   ]
  },
  {
   "cell_type": "code",
   "execution_count": null,
   "metadata": {},
   "outputs": [],
   "source": [
    "%%script bash\n",
    "date\n",
    "exp=\"YOLOv5_UAVDT_3\"\n",
    "pwd\n",
    "python exec_detection_test.py $exp --device 1\n",
    "gsutil -m cp -r ./$exp/YOLOv5_UAVDT_det/ gs://cfdy/Experimentos/$exp/\n",
    "date"
   ]
  },
  {
   "cell_type": "code",
   "execution_count": null,
   "metadata": {},
   "outputs": [],
   "source": [
    "%%script bash\n",
    "date\n",
    "exp=\"YOLOv5_UAVDT_4\"\n",
    "pwd\n",
    "python exec_detection_test.py $exp --device 1\n",
    "gsutil -m cp -r ./$exp/YOLOv5_UAVDT_det/ gs://cfdy/Experimentos/$exp/\n",
    "date"
   ]
  },
  {
   "cell_type": "code",
   "execution_count": null,
   "metadata": {},
   "outputs": [],
   "source": [
    "%%script bash\n",
    "date\n",
    "exp=\"YOLOv5_UAVDT_5\"\n",
    "pwd\n",
    "python exec_detection_test.py $exp --device 1\n",
    "gsutil -m cp -r ./$exp/YOLOv5_UAVDT_det/ gs://cfdy/Experimentos/$exp/\n",
    "date"
   ]
  },
  {
   "cell_type": "code",
   "execution_count": null,
   "metadata": {},
   "outputs": [],
   "source": [
    "%%script bash\n",
    "date\n",
    "exp=\"YOLOv5_UAVDT_6\"\n",
    "pwd\n",
    "python exec_detection_test.py $exp --device 1\n",
    "gsutil -m cp -r ./$exp/YOLOv5_UAVDT_det/ gs://cfdy/Experimentos/$exp/\n",
    "date"
   ]
  },
  {
   "cell_type": "code",
   "execution_count": null,
   "metadata": {},
   "outputs": [],
   "source": [
    "%%script bash\n",
    "date\n",
    "exp=\"YOLOv5_UAVDT_7\"\n",
    "pwd\n",
    "python exec_detection_test.py $exp --device 1\n",
    "gsutil -m cp -r ./$exp/YOLOv5_UAVDT_det/ gs://cfdy/Experimentos/$exp/\n",
    "date"
   ]
  },
  {
   "cell_type": "code",
   "execution_count": null,
   "metadata": {},
   "outputs": [],
   "source": [
    "%%script bash\n",
    "date\n",
    "exp=\"YOLOv5_UAVDT_301\"\n",
    "pwd\n",
    "python exec_detection_test.py $exp --device 1\n",
    "gsutil -m cp -r ./$exp/YOLOv5_UAVDT_det/ gs://cfdy/Experimentos/$exp/\n",
    "date"
   ]
  },
  {
   "cell_type": "code",
   "execution_count": null,
   "metadata": {},
   "outputs": [],
   "source": [
    "%%script bash\n",
    "date\n",
    "exp=\"YOLOv5_UAVDT_302\"\n",
    "pwd\n",
    "python exec_detection_test.py $exp --device 1\n",
    "gsutil -m cp -r ./$exp/YOLOv5_UAVDT_det/ gs://cfdy/Experimentos/$exp/\n",
    "date"
   ]
  }
 ],
 "metadata": {
  "kernelspec": {
   "display_name": "Python 3",
   "language": "python",
   "name": "python3"
  },
  "language_info": {
   "codemirror_mode": {
    "name": "ipython",
    "version": 3
   },
   "file_extension": ".py",
   "mimetype": "text/x-python",
   "name": "python",
   "nbconvert_exporter": "python",
   "pygments_lexer": "ipython3",
   "version": "3.9.0-final"
  }
 },
 "nbformat": 4,
 "nbformat_minor": 5
}