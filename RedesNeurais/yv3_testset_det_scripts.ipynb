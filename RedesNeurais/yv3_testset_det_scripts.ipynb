{
 "cells": [
  {
   "cell_type": "markdown",
   "id": "intimate-american",
   "metadata": {},
   "source": [
    "# Scripts para executar a detecção no conjunto de dados de teste.\n",
    "\n",
    "Rede: YOLOv3.\n",
    "\n",
    "Experimentos: YOLOv3_UAVDT_0 ... YOLOv5_UAVDT_5"
   ]
  },
  {
   "cell_type": "markdown",
   "id": "starting-monte",
   "metadata": {},
   "source": [
    "```bash\n",
    "conda activate yv5r4; mkdir logs; experimento=\"yv3_testset_det_scripts\"; outputFileName=$(date \"+\"$experimento\"_ipynb_%d_%B_%Y_%Hh_%Mm_%Ss\"); echo \"Salvando log de execucao em: $outputFileName.txt\"; nohup jupyter nbconvert --to notebook --execute --allow-errors --output \"./logs/$outputFileName\" --ExecutePreprocessor.timeout=-1 --Application.log_level=10 $experimento.ipynb &> \"./logs/$outputFileName.txt\" &\n",
    "```"
   ]
  },
  {
   "cell_type": "code",
   "execution_count": null,
   "id": "genetic-rouge",
   "metadata": {},
   "outputs": [],
   "source": [
    "!date\n",
    "!pwd\n",
    "!printenv | grep conda\n",
    "!nvidia-smi"
   ]
  },
  {
   "cell_type": "code",
   "execution_count": null,
   "id": "coated-responsibility",
   "metadata": {},
   "outputs": [],
   "source": [
    "# %%script bash\n",
    "# date\n",
    "# exp=\"YOLOv3_UAVDT_0\"\n",
    "# pwd\n",
    "# python exec_detection_test.py $exp --device 1\n",
    "# gsutil -m cp -r ./$exp/YOLOv3_UAVDT_det/ gs://cfdy/Experimentos/$exp/\n",
    "# date"
   ]
  },
  {
   "cell_type": "code",
   "execution_count": null,
   "id": "abandoned-capacity",
   "metadata": {},
   "outputs": [],
   "source": [
    "# %%script bash\n",
    "# date\n",
    "# exp=\"YOLOv3_UAVDT_1\"\n",
    "# pwd\n",
    "# python exec_detection_test.py $exp --device 1\n",
    "# gsutil -m cp -r ./$exp/YOLOv3_UAVDT_det/ gs://cfdy/Experimentos/$exp/\n",
    "# date"
   ]
  },
  {
   "cell_type": "code",
   "execution_count": null,
   "id": "extra-lincoln",
   "metadata": {},
   "outputs": [],
   "source": [
    "# %%script bash\n",
    "# date\n",
    "# exp=\"YOLOv3_UAVDT_2\"\n",
    "# pwd\n",
    "# python exec_detection_test.py $exp --device 1\n",
    "# gsutil -m cp -r ./$exp/YOLOv3_UAVDT_det/ gs://cfdy/Experimentos/$exp/\n",
    "# date"
   ]
  },
  {
   "cell_type": "code",
   "execution_count": null,
   "id": "successful-complement",
   "metadata": {},
   "outputs": [],
   "source": [
    "# %%script bash\n",
    "# date\n",
    "# exp=\"YOLOv3_UAVDT_3\"\n",
    "# pwd\n",
    "# python exec_detection_test.py $exp --device 1\n",
    "# gsutil -m cp -r ./$exp/YOLOv3_UAVDT_det/ gs://cfdy/Experimentos/$exp/\n",
    "# date"
   ]
  },
  {
   "cell_type": "code",
   "execution_count": null,
   "id": "roman-rugby",
   "metadata": {},
   "outputs": [],
   "source": [
    "# %%script bash\n",
    "# date\n",
    "# exp=\"YOLOv3_UAVDT_4\"\n",
    "# pwd\n",
    "# python exec_detection_test.py $exp --device 1\n",
    "# gsutil -m cp -r ./$exp/YOLOv3_UAVDT_det/ gs://cfdy/Experimentos/$exp/\n",
    "# date"
   ]
  },
  {
   "cell_type": "code",
   "execution_count": null,
   "id": "russian-brazilian",
   "metadata": {},
   "outputs": [],
   "source": [
    "# %%script bash\n",
    "# date\n",
    "# exp=\"YOLOv3_UAVDT_5\"\n",
    "# pwd\n",
    "# python exec_detection_test.py $exp --device 1\n",
    "# gsutil -m cp -r ./$exp/YOLOv3_UAVDT_det/ gs://cfdy/Experimentos/$exp/\n",
    "# date"
   ]
  },
  {
   "cell_type": "code",
   "execution_count": null,
   "id": "happy-advertiser",
   "metadata": {},
   "outputs": [],
   "source": [
    "%%script bash\n",
    "date\n",
    "exp=\"YOLOv3_UAVDT_6\"\n",
    "pwd\n",
    "python exec_detection_test.py $exp --device 1\n",
    "gsutil -m cp -r ./$exp/YOLOv3_UAVDT_det/ gs://cfdy/Experimentos/$exp/\n",
    "date"
   ]
  },
  {
   "cell_type": "code",
   "execution_count": null,
   "id": "breeding-stadium",
   "metadata": {},
   "outputs": [],
   "source": [
    "%%script bash\n",
    "date\n",
    "exp=\"YOLOv3_UAVDT_7\"\n",
    "pwd\n",
    "python exec_detection_test.py $exp --device 1\n",
    "gsutil -m cp -r ./$exp/YOLOv3_UAVDT_det/ gs://cfdy/Experimentos/$exp/\n",
    "date"
   ]
  },
  {
   "cell_type": "code",
   "execution_count": null,
   "id": "independent-knight",
   "metadata": {},
   "outputs": [],
   "source": [
    "%%script bash\n",
    "date\n",
    "exp=\"YOLOv3_UAVDT_8\"\n",
    "pwd\n",
    "python exec_detection_test.py $exp --device 1\n",
    "gsutil -m cp -r ./$exp/YOLOv3_UAVDT_det/ gs://cfdy/Experimentos/$exp/\n",
    "date"
   ]
  }
 ],
 "metadata": {
  "kernelspec": {
   "display_name": "Python 3",
   "language": "python",
   "name": "python3"
  },
  "language_info": {
   "codemirror_mode": {
    "name": "ipython",
    "version": 3
   },
   "file_extension": ".py",
   "mimetype": "text/x-python",
   "name": "python",
   "nbconvert_exporter": "python",
   "pygments_lexer": "ipython3",
   "version": "3.9.0"
  }
 },
 "nbformat": 4,
 "nbformat_minor": 5
}
