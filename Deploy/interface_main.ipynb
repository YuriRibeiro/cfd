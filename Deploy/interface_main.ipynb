{
 "metadata": {
  "language_info": {
   "codemirror_mode": {
    "name": "ipython",
    "version": 3
   },
   "file_extension": ".py",
   "mimetype": "text/x-python",
   "name": "python",
   "nbconvert_exporter": "python",
   "pygments_lexer": "ipython3",
   "version": "3.9.0"
  },
  "orig_nbformat": 2,
  "kernelspec": {
   "name": "python390jvsc74a57bd01af7dd3f9c6213cd354bf8ae22ab21251371079a4b88a2ccfcf0b6994a5363e8",
   "display_name": "Python 3.9.0 64-bit ('yv5r4': conda)"
  },
  "metadata": {
   "interpreter": {
    "hash": "1af7dd3f9c6213cd354bf8ae22ab21251371079a4b88a2ccfcf0b6994a5363e8"
   }
  }
 },
 "nbformat": 4,
 "nbformat_minor": 2,
 "cells": [
  {
   "source": [
    "# Interface"
   ],
   "cell_type": "markdown",
   "metadata": {}
  },
  {
   "cell_type": "code",
   "execution_count": null,
   "metadata": {},
   "outputs": [],
   "source": [
    "import traffic_vehicle_counter as tvc"
   ]
  },
  {
   "cell_type": "code",
   "execution_count": null,
   "metadata": {},
   "outputs": [],
   "source": [
    "# yv5detector = tvc.Detector(detector='yv5_S', params={'conf_thres': 0.3})\n",
    "# tracker = tvc.TrackerSort()\n",
    "\n",
    "# b1 = tvc.CountBarrier((100,100), (540,540), 1, 15, 'b0')\n",
    "# b2 = tvc.CountBarrier((400,400), (500,800), 5, 20, 'b1')\n",
    "\n",
    "# b3 = tvc.CountBarrier((100,400), (500,800), 5, 20, 'b2')\n",
    "\n",
    "# barriers = {\"M0101\": [b1, b2],\n",
    "#             \"M0201\": [b3]}\n",
    "\n",
    "# a= tvc.Analysis( input_path='/home/yuri/Desktop/videos/',\n",
    "#                 output_path='/home/yuri/Desktop/videos_processed/',\n",
    "#                 detector=yv5detector,\n",
    "#                 tracker=tracker,\n",
    "#                 barriers=barriers)\n",
    "# a.start()"
   ]
  }
 ]
}