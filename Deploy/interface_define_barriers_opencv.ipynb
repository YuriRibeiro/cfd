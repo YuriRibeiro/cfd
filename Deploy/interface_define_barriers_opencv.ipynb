{
 "cells": [
  {
   "cell_type": "markdown",
   "metadata": {},
   "source": [
    "# Conveniência: Definir Barreiras de Contagem Utilizando Interface do OpenCV (Apenas para ser usado em Máquina Local, não em computadores remotos)\n",
    "\n",
    "É necessário que se tenha o openCV instalado na máquina local.\n",
    "<hr>"
   ]
  },
  {
   "cell_type": "markdown",
   "metadata": {},
   "source": [
    "**Instruções**\n",
    "\n",
    "    1) Clique em Browse e vá até o vídeo/pasta desejado;\n",
    "\n",
    "    2) Clique com o botão direito do mouse sobre o vídeo/pasta desejado e clique em\n",
    "       'Copiar Localização' (Copy Location);\n",
    "   \n",
    "    3) Pressione ESC para sair da tela de seleção.\n",
    "\n",
    "    4) Insira a localização no Input_Path, pressionando CTRL+V.\n",
    "    \n",
    "    5) Run!\n",
    "    \n",
    "    6) Clique sobre a imagem para marcar as coordenadas das barreiras; Dois cliques consecutivos, em diferentes coordenadas, formam uma barreira.\n",
    "    \n",
    "    7) Comandos:\n",
    "        LEFT Mouse Button: Selecionar coordenadas da barreira;\n",
    "        MID Mouse Button: Seleciona a barreira cujo ponto médio está mais próximo da coordenada do clique. \n",
    "        \n",
    "        Arrows: Passa para o próximo frame (--->) ou para o frame anterior (<---)\n",
    "        Space: Passa para o frame seguinte.\n",
    "        f: Salvar frames de ínicio e fim da barreira;\n",
    "        d: Deletar barreira selecionada;\n",
    "        ESC: Sair e printar os resultados no campo Status.\n",
    "\n",
    "**OBS**:\n",
    "\n",
    "A) Arquivos aceitos:-(a) Uma única pasta contendo imagens (jpg, jpeg, png);\n",
    "                    -(b) Um único arquivo de vídeo (avi, mp4).\n",
    "                    \n",
    "B) As coordenadas em 'Print Barrier Infos' são relativas às dimensões originais da imagem.\n",
    "\n",
    "<hr>"
   ]
  },
  {
   "cell_type": "code",
   "execution_count": 1,
   "metadata": {
    "scrolled": false
   },
   "outputs": [
    {
     "data": {
      "text/html": [
       "<input type=\"file\" id=\"selectedFile\" style=\"display: none; \" />                             <input type=\"button\" value=\"Search Input Path ...\"                             onclick=\"document.getElementById('selectedFile').click();\" />"
      ],
      "text/plain": [
       "<IPython.core.display.HTML object>"
      ]
     },
     "metadata": {},
     "output_type": "display_data"
    },
    {
     "data": {
      "application/vnd.jupyter.widget-view+json": {
       "model_id": "05a3be3eb4ec4e8090be2700589f34ad",
       "version_major": 2,
       "version_minor": 0
      },
      "text/plain": [
       "Text(value='', description='Input Path:', layout=Layout(width='100%'), placeholder='Input Path...')"
      ]
     },
     "metadata": {},
     "output_type": "display_data"
    },
    {
     "data": {
      "application/vnd.jupyter.widget-view+json": {
       "model_id": "16f9286efa7a455eb499557ce063cc5f",
       "version_major": 2,
       "version_minor": 0
      },
      "text/plain": [
       "Button(button_style='success', description='Run via OpenCV!', layout=Layout(height='40px', width='30%'), style…"
      ]
     },
     "metadata": {},
     "output_type": "display_data"
    },
    {
     "data": {
      "application/vnd.jupyter.widget-view+json": {
       "model_id": "755463ebe2c84382a4e9936a5495d3d3",
       "version_major": 2,
       "version_minor": 0
      },
      "text/plain": [
       "Textarea(value='', description='Status:', layout=Layout(height='120px', width='90%'), placeholder='Barrier Inf…"
      ]
     },
     "metadata": {},
     "output_type": "display_data"
    }
   ],
   "source": [
    "import convenience_define_barriers_opencv as db\n",
    "widgets = db.JupyterInterface()    \n",
    "display(widgets.file_selector,\n",
    "        widgets.input_path_widget,\n",
    "        widgets.input_path_button,\n",
    "        widgets.print_barrier_results_text)"
   ]
  },
  {
   "cell_type": "code",
   "execution_count": null,
   "metadata": {},
   "outputs": [],
   "source": []
  }
 ],
 "metadata": {
  "kernelspec": {
   "display_name": "Python 3.9.0 64-bit ('yv5r4': conda)",
   "language": "python",
   "name": "python390jvsc74a57bd01af7dd3f9c6213cd354bf8ae22ab21251371079a4b88a2ccfcf0b6994a5363e8"
  },
  "language_info": {
   "codemirror_mode": {
    "name": "ipython",
    "version": 3
   },
   "file_extension": ".py",
   "mimetype": "text/x-python",
   "name": "python",
   "nbconvert_exporter": "python",
   "pygments_lexer": "ipython3",
   "version": "3.9.0"
  },
  "metadata": {
   "interpreter": {
    "hash": "1af7dd3f9c6213cd354bf8ae22ab21251371079a4b88a2ccfcf0b6994a5363e8"
   }
  }
 },
 "nbformat": 4,
 "nbformat_minor": 2
}
