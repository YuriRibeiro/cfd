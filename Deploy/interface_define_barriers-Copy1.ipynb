{
 "cells": [
  {
   "cell_type": "code",
   "execution_count": 1,
   "metadata": {},
   "outputs": [],
   "source": [
    "import define_barriers as db\n",
    "widgets = db.Widgets()"
   ]
  },
  {
   "cell_type": "markdown",
   "metadata": {},
   "source": [
    "# Conveniência: (Copy Input/Output Path via File Selector)"
   ]
  },
  {
   "cell_type": "markdown",
   "metadata": {},
   "source": [
    "**Obter Input_Path/Output_Path para o vídeo/imagens a ser analisado via File Selector.**\n",
    "\n",
    "1) Clique em Browse e vá até o vídeo/pasta desejado;\n",
    "\n",
    "2) Clique com o botão direito do mouse sobre o vídeo/pasta desejado e clique em\n",
    "   'Copiar Localização' (Copy Location);\n",
    "   \n",
    "3) Pressione ESC para sair da tela de seleção.\n",
    "\n",
    "4) Clique no local onde se deseja inserir o Input_Path/Output_Path obtido e pressione CTRL+V.\n",
    "\n",
    "Obs: Se a pasta Output_Path não existir, o programa irá criar uma automaticamente."
   ]
  },
  {
   "cell_type": "code",
   "execution_count": 5,
   "metadata": {},
   "outputs": [
    {
     "data": {
      "text/html": [
       "<input type=\"file\" id=\"selectedFile\" style=\"display: none;\" />                                     <input type=\"button\" value=\"Copy Input/ Output Path ...\"                                     onclick=\"document.getElementById('selectedFile').click();\" />"
      ],
      "text/plain": [
       "<IPython.core.display.HTML object>"
      ]
     },
     "metadata": {},
     "output_type": "display_data"
    },
    {
     "data": {
      "application/vnd.jupyter.widget-view+json": {
       "model_id": "b5d1aa60ed634686bf51362870e7d526",
       "version_major": 2,
       "version_minor": 0
      },
      "text/plain": [
       "Text(value='Input Path...', description='Input:', placeholder='Input Path')"
      ]
     },
     "metadata": {},
     "output_type": "display_data"
    },
    {
     "data": {
      "application/vnd.jupyter.widget-view+json": {
       "model_id": "c9ae1f9532c1446f9a24f2ffcfb57b16",
       "version_major": 2,
       "version_minor": 0
      },
      "text/plain": [
       "Text(value='Output Path...', description='Output:', placeholder='Output Path')"
      ]
     },
     "metadata": {},
     "output_type": "display_data"
    }
   ],
   "source": [
    "display(widgets.file_selector, widgets.input_path_widget, widgets.output_path_widget)"
   ]
  },
  {
   "cell_type": "markdown",
   "metadata": {},
   "source": [
    "# Conveniência: (Define Counting Barriers and Ignore Areas)"
   ]
  },
  {
   "cell_type": "code",
   "execution_count": 3,
   "metadata": {},
   "outputs": [
    {
     "ename": "NameError",
     "evalue": "name 'HTML' is not defined",
     "output_type": "error",
     "traceback": [
      "\u001b[0;31m---------------------------------------------------------------------------\u001b[0m",
      "\u001b[0;31mNameError\u001b[0m                                 Traceback (most recent call last)",
      "\u001b[0;32m<ipython-input-3-ddfdd702b067>\u001b[0m in \u001b[0;36m<module>\u001b[0;34m\u001b[0m\n\u001b[1;32m     23\u001b[0m \u001b[0;34m\u001b[0m\u001b[0m\n\u001b[1;32m     24\u001b[0m \u001b[0;34m\u001b[0m\u001b[0m\n\u001b[0;32m---> 25\u001b[0;31m \u001b[0mdisplay\u001b[0m\u001b[0;34m(\u001b[0m\u001b[0mHTML\u001b[0m\u001b[0;34m(\u001b[0m\u001b[0mjs\u001b[0m\u001b[0;34m)\u001b[0m\u001b[0;34m)\u001b[0m\u001b[0;34m\u001b[0m\u001b[0;34m\u001b[0m\u001b[0m\n\u001b[0m",
      "\u001b[0;31mNameError\u001b[0m: name 'HTML' is not defined"
     ]
    }
   ],
   "source": [
    "import define_barriers\n",
    "js='''\n",
    "<div>\n",
    "<img src=\"\" style=\"width: 10px; height: 10px;\" alt=\"Image\" id=\"def_count_barriers\" onclick=\"coords()\">\n",
    "</div>\n",
    "<p id=\"coords_clicked\" onclick=\"coords()\"> x: ; y: </p>\n",
    "\n",
    "<script>\n",
    "function coords(){\n",
    "    var rect = document.getElementById('def_count_barriers').getBoundingClientRect();\n",
    "    x = event.pageX - rect.left;\n",
    "    y = event.pageY - rect.top;\n",
    "    //IPython.notebook.kernel.execute(\"x=\"+x+\"; y=\"+y)\n",
    "    document.getElementById(\"coords_clicked\").innerHTML = \"x: \"+x+\"; y: \"+y;\n",
    "    IPython.notebook.kernel.execute(\"store(\"+x+\")\")\n",
    "}\n",
    "</script>\n",
    "'''\n",
    "a = []\n",
    "def store(x):\n",
    "    a.append(x)\n",
    "    print(a)\n",
    "    \n",
    "\n",
    "display(HTML(js))"
   ]
  },
  {
   "cell_type": "code",
   "execution_count": null,
   "metadata": {},
   "outputs": [],
   "source": [
    "import matplotlib.pyplot as plt\n",
    "import cv2\n",
    "import base64\n",
    "with open('img0.jpg', 'rb') as f:\n",
    "    encoded_img = str(base64.b64encode(f.read()))\n",
    "js2 = f'''\n",
    "document.getElementById(\"def_count_barriers\").src = \"data:image/jpg;base64,{encoded_img[2:-1]}\";\n",
    "''' \n",
    "Javascript(js2)"
   ]
  },
  {
   "cell_type": "code",
   "execution_count": null,
   "metadata": {},
   "outputs": [],
   "source": [
    "img = cv2.imread('img0.jpg')\n",
    "# Exec. img editing...\n",
    "cv2.line(img,(30,30), (400,400), (255,0,0), 3)\n",
    "#\n",
    "bimg = cv2.imencode('.jpg', img)[1].tobytes()\n",
    "bimg = str(base64.b64encode(bimg))[2:-1]\n",
    "js3 = f'''\n",
    "document.getElementById(\"def_count_barriers\").src = \"data:image/jpg;base64,{bimg}\";\n",
    "''' \n",
    "Javascript(js3)"
   ]
  }
 ],
 "metadata": {
  "kernelspec": {
   "display_name": "Python 3.9.0 64-bit ('yv5r4': conda)",
   "language": "python",
   "name": "python390jvsc74a57bd01af7dd3f9c6213cd354bf8ae22ab21251371079a4b88a2ccfcf0b6994a5363e8"
  },
  "language_info": {
   "codemirror_mode": {
    "name": "ipython",
    "version": 3
   },
   "file_extension": ".py",
   "mimetype": "text/x-python",
   "name": "python",
   "nbconvert_exporter": "python",
   "pygments_lexer": "ipython3",
   "version": "3.9.0"
  },
  "metadata": {
   "interpreter": {
    "hash": "1af7dd3f9c6213cd354bf8ae22ab21251371079a4b88a2ccfcf0b6994a5363e8"
   }
  }
 },
 "nbformat": 4,
 "nbformat_minor": 2
}
