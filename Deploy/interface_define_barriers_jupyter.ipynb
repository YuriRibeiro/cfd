{
 "cells": [
  {
   "cell_type": "markdown",
   "metadata": {},
   "source": [
    "# Conveniência: Definir Barreiras de Contagem\n",
    "\n",
    "<hr>"
   ]
  },
  {
   "cell_type": "markdown",
   "metadata": {},
   "source": [
    "**Obter Input_Path para o vídeo/imagens a ser analisado via File Selector.**\n",
    "\n",
    "    1) Clique em Browse e vá até o vídeo/pasta desejado;\n",
    "\n",
    "    2) Clique com o botão direito do mouse sobre o vídeo/pasta desejado e clique em\n",
    "       'Copiar Localização' (Copy Location);\n",
    "   \n",
    "    3) Pressione ESC para sair da tela de seleção.\n",
    "\n",
    "    4) Insira a localização no Input_Path, pressionando CTRL+V.\n",
    "    \n",
    "    5) Run!\n",
    "    \n",
    "    6) Clique sobre a imagem para atualizar nas coordenadas desejadas;\n",
    "    \n",
    "    7) Utilize os botões para esfetuar as operações desejadas;\n",
    "    \n",
    "    8) Pressione 'Print Barrier Infos' para obter o resultado final.\n",
    "\n",
    "**OBS**:\n",
    "\n",
    "A) Arquivos aceitos:-(a) Uma única pasta contendo imagens (jpg, jpeg, png);\n",
    "                    -(b) Um único arquivo de vídeo (avi, mp4).\n",
    "                    \n",
    "B) Se for analisar outro vídeo, reinicialize o kernel.\n",
    "\n",
    "C) As coordenadas em 'Print Barrier Infos' são relativas às dimensões originais da imagem.\n",
    "\n",
    "<hr>"
   ]
  },
  {
   "cell_type": "code",
   "execution_count": 1,
   "metadata": {
    "scrolled": false
   },
   "outputs": [
    {
     "data": {
      "text/html": [
       "<br> <p style=\"font-size:30px\"> Input Path: </p><br>"
      ],
      "text/plain": [
       "<IPython.core.display.HTML object>"
      ]
     },
     "metadata": {},
     "output_type": "display_data"
    },
    {
     "data": {
      "text/html": [
       "<input type=\"file\" id=\"selectedFile\" style=\"display: none; \" />                                     <input type=\"button\" value=\"Search Input Path ...\"                                     onclick=\"document.getElementById('selectedFile').click();\" />"
      ],
      "text/plain": [
       "<IPython.core.display.HTML object>"
      ]
     },
     "metadata": {},
     "output_type": "display_data"
    },
    {
     "data": {
      "application/vnd.jupyter.widget-view+json": {
       "model_id": "c34c0aff0a7a4019b6b11cc9e56946ef",
       "version_major": 2,
       "version_minor": 0
      },
      "text/plain": [
       "Text(value='', description='Input Path:', layout=Layout(width='100%'), placeholder='Input Path...')"
      ]
     },
     "metadata": {},
     "output_type": "display_data"
    },
    {
     "data": {
      "application/vnd.jupyter.widget-view+json": {
       "model_id": "13469518ba7e468c8cf16ca84b9149c2",
       "version_major": 2,
       "version_minor": 0
      },
      "text/plain": [
       "Button(button_style='success', description='Run!', layout=Layout(height='40px', width='30%'), style=ButtonStyl…"
      ]
     },
     "metadata": {},
     "output_type": "display_data"
    },
    {
     "data": {
      "application/vnd.jupyter.widget-view+json": {
       "model_id": "aa21d9863f3a4736858cfa049ebdb5cc",
       "version_major": 2,
       "version_minor": 0
      },
      "text/plain": [
       "HTML(value='', description='Status: ', layout=Layout(width='100%'), placeholder='')"
      ]
     },
     "metadata": {},
     "output_type": "display_data"
    },
    {
     "data": {
      "text/html": [
       "<br> <p style=\"font-size:30px\"> Pick Coordinates and Add Barriers: </p><br>"
      ],
      "text/plain": [
       "<IPython.core.display.HTML object>"
      ]
     },
     "metadata": {},
     "output_type": "display_data"
    },
    {
     "data": {
      "text/html": [
       "\n",
       "                            <div>\n",
       "                            <img src=\"\" style=\"width: 600px; height: 400px;\" alt=\"Image\" id=\"def_count_barriers\" onclick=\"coords()\">\n",
       "                            </div>\n",
       "                            <p id=\"coords_clicked\"> x1: 0; y1: 0</p>\n",
       "                            <p id=\"coords_clicked2\"> x2: 0; y2: 0</p>\n",
       "\n",
       "                            <script type=\"text/Javascript\">\n",
       "                                var kernel = IPython.notebook.kernel;\n",
       "                                var x=0;\n",
       "                                var y=0;\n",
       "                                function coords(){\n",
       "                                    document.getElementById(\"coords_clicked\").innerHTML = \"x1: \"+x+\"; y1: \"+y;\n",
       "                                    kernel.execute(\"widgets.x1=\"+x);\n",
       "                                    kernel.execute(\"widgets.y1=\"+y);\n",
       "                                    var rect = document.getElementById('def_count_barriers').getBoundingClientRect();\n",
       "                                    x = event.pageX - rect.left;\n",
       "                                    y = event.pageY - rect.top;\n",
       "                                    document.getElementById(\"coords_clicked2\").innerHTML = \"x2: \"+x+\"; y2: \"+y;\n",
       "                                    kernel.execute(\"widgets.x2=\"+x);\n",
       "                                    kernel.execute(\"widgets.y2=\"+y);\n",
       "                                    kernel.execute(\"update_coords()\")\n",
       "                                }\n",
       "                            </script>\n",
       "                            "
      ],
      "text/plain": [
       "<IPython.core.display.HTML object>"
      ]
     },
     "metadata": {},
     "output_type": "display_data"
    },
    {
     "data": {
      "application/vnd.jupyter.widget-view+json": {
       "model_id": "5bb0de71387d4dee921e636105bc9fb9",
       "version_major": 2,
       "version_minor": 0
      },
      "text/plain": [
       "VBox(children=(HBox(children=(Button(button_style='warning', description='Draw Circle Around Current Coords', …"
      ]
     },
     "metadata": {},
     "output_type": "display_data"
    },
    {
     "data": {
      "text/html": [
       "<br> <p style=\"font-size:30px\"> Edit Counting Barrier Parameters and Print Results: </p><br>"
      ],
      "text/plain": [
       "<IPython.core.display.HTML object>"
      ]
     },
     "metadata": {},
     "output_type": "display_data"
    },
    {
     "data": {
      "application/vnd.jupyter.widget-view+json": {
       "model_id": "064cfd9a56b74b3c88e0a8561d360a53",
       "version_major": 2,
       "version_minor": 0
      },
      "text/plain": [
       "VBox(children=(Dropdown(description='Barrier:', options=('',), value=''), HBox(children=(Label(value='Frame Ra…"
      ]
     },
     "metadata": {},
     "output_type": "display_data"
    }
   ],
   "source": [
    "import convenience_define_barriers_jupyter as db\n",
    "from IPython.display import HTML, Javascript\n",
    "x, y, coords = 0, 0, [(0,0), (0,0)]\n",
    "def update_coords(): coords[0] = coords[1]; coords[1] = (x,y)\n",
    "widgets = db.Widgets()    \n",
    "display(HTML(widgets.msg0),\n",
    "        widgets.file_selector,\n",
    "        widgets.input_path_widget,\n",
    "        widgets.input_path_button,\n",
    "        widgets.status_text_box_widget,\n",
    "        HTML(widgets.msg1),\n",
    "        HTML(widgets.frame_atual),\n",
    "        widgets.vbox1,\n",
    "        HTML(widgets.msg2),\n",
    "        widgets.vbox2)"
   ]
  }
 ],
 "metadata": {
  "kernelspec": {
   "display_name": "Python 3.9.0 64-bit ('yv5r4': conda)",
   "language": "python",
   "name": "python390jvsc74a57bd01af7dd3f9c6213cd354bf8ae22ab21251371079a4b88a2ccfcf0b6994a5363e8"
  },
  "language_info": {
   "codemirror_mode": {
    "name": "ipython",
    "version": 3
   },
   "file_extension": ".py",
   "mimetype": "text/x-python",
   "name": "python",
   "nbconvert_exporter": "python",
   "pygments_lexer": "ipython3",
   "version": "3.9.0"
  },
  "metadata": {
   "interpreter": {
    "hash": "1af7dd3f9c6213cd354bf8ae22ab21251371079a4b88a2ccfcf0b6994a5363e8"
   }
  }
 },
 "nbformat": 4,
 "nbformat_minor": 2
}
